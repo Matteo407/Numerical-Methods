{
 "cells": [
  {
   "cell_type": "code",
   "execution_count": 1,
   "id": "6c5718db",
   "metadata": {},
   "outputs": [],
   "source": [
    "import numpy as np\n",
    "import matplotlib.pyplot as plt\n",
    "from scipy.linalg import hilbert"
   ]
  },
  {
   "cell_type": "markdown",
   "id": "ae26fd70",
   "metadata": {},
   "source": [
    "<h1 style=\"background-color:rgb(181 ,50 ,84);color:white;text-align:center\">Gershgorin circles</h1>"
   ]
  },
  {
   "cell_type": "code",
   "execution_count": 2,
   "id": "94137a01",
   "metadata": {},
   "outputs": [],
   "source": [
    "### Calculates the row or coloumns Gershgorin circles\n",
    "\n",
    "def Gershgorin_circles(A, row=True):\n",
    "    n = A.shape[0]\n",
    "    circles = {}\n",
    "    \n",
    "    for i in range(n):\n",
    "        if row:\n",
    "            radius = np.sum(np.abs(A[i])) - np.abs(A[i, i])\n",
    "        else:\n",
    "            radius = np.sum(np.abs(A[:, i])) - np.abs(A[i, i])\n",
    "            \n",
    "        circles[i] = (np.real(A[i, i]), np.imag(A[i, i]), radius)\n",
    "    \n",
    "    return circles"
   ]
  },
  {
   "cell_type": "code",
   "execution_count": 3,
   "id": "87e6e61b",
   "metadata": {},
   "outputs": [],
   "source": [
    "### Functions for the plot\n",
    "\n",
    "def plot_circles(circles, row=True):\n",
    "    figure, axes = plt.subplots()\n",
    "    axes.set_aspect(1)\n",
    "    max_lim = 0\n",
    "    \n",
    "    for circle in circles.values():\n",
    "        max_lim = np.max([max_lim, np.abs(circle[0]) + circle[2], np.abs(circle[1]) + circle[2]])\n",
    "        circle = plt.Circle((circle[0], circle[1]), circle[2], facecolor=(*np.random.rand(3,), .5))\n",
    "        axes.add_artist(circle)\n",
    "    \n",
    "    plt.xlim(-max_lim, max_lim)\n",
    "    plt.ylim(-max_lim, max_lim)\n",
    "    \n",
    "    if row:\n",
    "        plt.title('Row Gershgorin Circles')\n",
    "    else:\n",
    "        plt.title('Coloumn Gershgorin Circles')\n",
    "    plt.show()\n",
    "    \n",
    "def in_circles(circles, x, y):\n",
    "    for circle in circles.values():\n",
    "        dx = circle[0] - x\n",
    "        dy = circle[1] - y\n",
    "        \n",
    "        if np.sqrt(dx**2 + dy**2) <= circle[2]:\n",
    "            return True\n",
    "        \n",
    "    return False\n",
    "\n",
    "def plot_intersections(c1, c2):\n",
    "    max_lim = 0\n",
    "    figure, axes = plt.subplots()\n",
    "    \n",
    "    for circle in c1.values():\n",
    "        x0, y0, R = circle\n",
    "        \n",
    "        for i in range(500):\n",
    "            rho = np.random.rand() * R\n",
    "            theta = np.random.rand() * 2*np.pi\n",
    "\n",
    "            x = x0 + rho*np.cos(theta)\n",
    "            y = y0 + rho*np.sin(theta)\n",
    "            \n",
    "            if in_circles(c2, x, y):\n",
    "                plt.plot(x, y, 'r.')\n",
    "                \n",
    "            max_lim = np.max([max_lim, np.abs(x), np.abs(y)])\n",
    "                \n",
    "    plt.xlim(-max_lim, max_lim)\n",
    "    plt.ylim(-max_lim, max_lim)\n",
    "    axes.set_aspect(1)\n",
    "    plt.show()"
   ]
  },
  {
   "cell_type": "code",
   "execution_count": 4,
   "id": "9fba0fcf",
   "metadata": {},
   "outputs": [
    {
     "data": {
      "image/png": "[encoded data removed]",
      "text/plain": [
       "<Figure size 432x288 with 1 Axes>"
      ]
     },
     "metadata": {
      "needs_background": "light"
     },
     "output_type": "display_data"
    },
    {
     "data": {
      "image/png": "[encoded data removed]",
      "text/plain": [
       "<Figure size 432x288 with 1 Axes>"
      ]
     },
     "metadata": {
      "needs_background": "light"
     },
     "output_type": "display_data"
    },
    {
     "data": {
      "image/png": "[encoded data removed]",
      "text/plain": [
       "<Figure size 432x288 with 1 Axes>"
      ]
     },
     "metadata": {
      "needs_background": "light"
     },
     "output_type": "display_data"
    }
   ],
   "source": [
    "# A = np.array([[-3, 3, 2, 1], [0, 3, 1, 0], [0, 1, -1-1j, 1], [1, 0, 0, -1-2j]])\n",
    "# A = np.random.rand(3, 3) + np.random.rand(3, 3)*1j\n",
    "\n",
    "E = np.array([[1,1,0,0], [1,5,1,0], [1,0,8,1], [1,0,0,11]])\n",
    "\n",
    "row_circles = Gershgorin_circles(E, row=True)\n",
    "plot_circles(row_circles)\n",
    "\n",
    "col_circles = Gershgorin_circles(E, row=False)\n",
    "plot_circles(col_circles, row=False)\n",
    "\n",
    "plot_intersections(row_circles, col_circles)"
   ]
  },
  {
   "cell_type": "markdown",
   "id": "5eaf8ad6",
   "metadata": {},
   "source": [
    "<h1 style=\"background-color:rgb(181 ,50 ,84);color:white;text-align:center\">Power method</h1>"
   ]
  },
  {
   "cell_type": "markdown",
   "id": "002c1a97",
   "metadata": {},
   "source": [
    "### Largest eigenvalue"
   ]
  },
  {
   "cell_type": "code",
   "execution_count": 2,
   "id": "1f8839db",
   "metadata": {},
   "outputs": [],
   "source": [
    "def power_method(A, x0, tol=0.0001):\n",
    "    \"\"\"\n",
    "    Evaluates the dominant eigenvalue of a matrix and the correspondent eigenvector through power method\n",
    "    \n",
    "    Parameters:\n",
    "        A (numpy array): nxn matrix\n",
    "        x0 (numpy array): nx1 initial guess\n",
    "        \n",
    "    Returns:\n",
    "        lambda_k (numpy matrix): approximation of the dominant eigenvalue\n",
    "        x_k (numpy array): nx1 vector, approximation of the eigenvector associated to lambda_k\n",
    "    \"\"\"\n",
    "    \n",
    "    # Identity matrix\n",
    "    I = np.eye(A.shape[0])\n",
    "    \n",
    "    # Initial guess\n",
    "    x_k = x0.copy()\n",
    "    lambda_k = x_k.conjugate().T @ A @ x_k\n",
    "\n",
    "    while np.linalg.norm((A - lambda_k[0,0]*I) @ x_k) / np.abs(lambda_k) > tol:\n",
    "        y_k = A @ x_k\n",
    "        x_k = y_k / np.linalg.norm(y_k)\n",
    "        lambda_k = x_k.conjugate().T @ A @ x_k\n",
    "    \n",
    "    return lambda_k, x_k"
   ]
  },
  {
   "cell_type": "markdown",
   "id": "4f0d0e23",
   "metadata": {},
   "source": [
    "### Inverse iteration"
   ]
  },
  {
   "cell_type": "code",
   "execution_count": 3,
   "id": "a1946b0e",
   "metadata": {},
   "outputs": [],
   "source": [
    "def power_method_inverse(A, x0, s=0, tol=0.0001):    \n",
    "    \"\"\"\n",
    "    Evaluates the eigenvalue of A which is closest in absolute value to s and the correspondent \n",
    "        eigenvector through inverse power method\n",
    "    \n",
    "    Parameters:\n",
    "        A (numpy array): nxn matrix\n",
    "        x0 (numpy array): nx1 initial guess\n",
    "        \n",
    "    Returns:\n",
    "        lambda_k (numpy matrix): approximation of the eigenvalue closest to s\n",
    "        x_k (numpy array): nx1 vector, approximation of the eigenvector associated to lambda_k\n",
    "    \"\"\"\n",
    "    \n",
    "    # Identity matrix\n",
    "    I = np.eye(A.shape[0])\n",
    "    \n",
    "    # Initial guess\n",
    "    x_k = x0.copy()\n",
    "    lambda_k = x_k.conjugate().T @ A @ x_k\n",
    "    \n",
    "    # Algorithm\n",
    "    while np.linalg.norm((A - lambda_k[0,0]*I) @ x_k) / np.abs(lambda_k) > tol:\n",
    "        y_k = np.linalg.solve(A - s*I, x_k)\n",
    "        x_k = y_k / np.linalg.norm(y_k)\n",
    "        lambda_k = x_k.conjugate().T @ A @ x_k\n",
    "    \n",
    "    return lambda_k, x_k"
   ]
  },
  {
   "cell_type": "markdown",
   "id": "3f515492",
   "metadata": {},
   "source": [
    "<h1 style=\"background-color:rgb(181 ,50 ,84);color:white;text-align:center\">QR iteration</h1>"
   ]
  },
  {
   "cell_type": "code",
   "execution_count": 4,
   "id": "481a6bb4",
   "metadata": {},
   "outputs": [],
   "source": [
    "def QR_iteration(A, max_iterations=1000):\n",
    "    \"\"\"\n",
    "    Evaluates all the eigenvalues of A through QR iterations\n",
    "    \n",
    "    Parameters:\n",
    "        A (numpy array): nxn real matrix\n",
    "        \n",
    "    Returns:\n",
    "        T (numpy array): nxn upper triangular matrix with the eigenvalues of A on the diagonal\n",
    "        Q_inf (numpy array): nxn orthogonal matrix, if A is symmetric it's the matrix of eigenvectors\n",
    "    \"\"\"\n",
    "    \n",
    "    # Initial iteration\n",
    "    T = A.copy()\n",
    "    Q_inf = np.eye(A.shape[0])\n",
    "    \n",
    "    # Algorithm\n",
    "    for i in range(max_iterations):\n",
    "        Q, R = np.linalg.qr(T) \n",
    "        T = R @ Q\n",
    "        \n",
    "        Q_inf = Q_inf @ Q\n",
    "\n",
    "    return T, Q_inf"
   ]
  },
  {
   "cell_type": "markdown",
   "id": "cb6c0bf6",
   "metadata": {},
   "source": [
    "<h1 style=\"background-color:rgb(181 ,50 ,84);color:white;text-align:center\">Testing</h1>"
   ]
  },
  {
   "cell_type": "code",
   "execution_count": 7,
   "id": "8085a75e",
   "metadata": {},
   "outputs": [],
   "source": [
    "### Matrices\n",
    "\n",
    "A = np.array([[4, -5],\n",
    "              [2, 3]])\n",
    "\n",
    "B = np.array([[0, 11, -5],\n",
    "             [-2, 17, -7],\n",
    "             [-4, 26, -10]])\n",
    "\n",
    "C = np.array([[1, 0.5, -0.5, 0.2],\n",
    "             [0.5, 12, 0.8, 1],\n",
    "             [-0.5, 0.8, -16, 1],\n",
    "             [0.2, 1, 1, -4]])\n",
    "\n",
    "D = np.array([[2, 0, 0.5, -1],\n",
    "             [0.5, 7, 6.5, 21],\n",
    "             [-2, 1, 12, -0.5],\n",
    "             [0, -0.5, 0, 18]])"
   ]
  },
  {
   "cell_type": "code",
   "execution_count": null,
   "id": "2f153d07",
   "metadata": {},
   "outputs": [
    {
     "name": "stdout",
     "output_type": "stream",
     "text": [
      "Eigenvalues = [3.5+3.122499j 3.5-3.122499j]\n",
      "Eigenvectors = [[0.84515425+0.j         0.84515425-0.j        ]\n",
      " [0.08451543-0.52779866j 0.08451543+0.52779866j]]\n",
      "\n"
     ]
    }
   ],
   "source": [
    "### Power method\n",
    "matrix = A\n",
    "n = matrix.shape[0]\n",
    "x0 = np.ones((n, 1))\n",
    "\n",
    "print(f'Eigenvalues = {np.linalg.eig(matrix)[0]}')\n",
    "print(f'Eigenvectors = {np.linalg.eig(matrix)[1]}')\n",
    "print()\n",
    "print(f'Max eigenvalue calculated: {power_method(matrix, x0)[0]}')\n",
    "print(f'Associated eigenvector: {power_method(matrix, x0)[1].reshape(1,n)[0]}')"
   ]
  },
  {
   "cell_type": "code",
   "execution_count": 13,
   "id": "d2c488e5",
   "metadata": {},
   "outputs": [
    {
     "name": "stdout",
     "output_type": "stream",
     "text": [
      "Eigenvalues = [ 12.110857   -16.11724096   0.99726676  -3.99088279]\n",
      "Eigenvectors = [[-0.04465631 -0.03079279 -0.9982063  -0.02533389]\n",
      " [-0.9964866   0.02601933  0.04543575 -0.06536853]\n",
      " [-0.02985039 -0.99593478  0.03004043  0.07950115]\n",
      " [-0.06425904  0.0805525  -0.0248466   0.99436649]]\n",
      "\n",
      "Eigenvalue closest to s: [[-3.99088278]]\n",
      "Associated eigenvector: [ 0.02538922  0.06536602 -0.07950283 -0.99436511]\n"
     ]
    }
   ],
   "source": [
    "### Inverse power method\n",
    "matrix = C\n",
    "n = matrix.shape[0]\n",
    "x0 = np.ones((n, 1))\n",
    "s = -3\n",
    "\n",
    "print(f'Eigenvalues = {np.linalg.eig(matrix)[0]}')\n",
    "print(f'Eigenvectors = {np.linalg.eig(matrix)[1]}')\n",
    "print()\n",
    "print(f'Eigenvalue closest to s: {power_method_inverse(matrix, x0, s=s)[0]}')\n",
    "print(f'Associated eigenvector: {power_method_inverse(matrix, x0, s=s)[1].reshape(1,n)[0]}')"
   ]
  },
  {
   "cell_type": "code",
   "execution_count": 11,
   "id": "c128df55",
   "metadata": {},
   "outputs": [
    {
     "name": "stdout",
     "output_type": "stream",
     "text": [
      "Eigenvalues = [259.76545625 146.67285728   0.99454098  15.92714548]\n",
      "Eigenvectors = [[ 0.03079279  0.04465631 -0.9982063  -0.02533389]\n",
      " [-0.02601933  0.9964866   0.04543575 -0.06536853]\n",
      " [ 0.99593478  0.02985039  0.03004043  0.07950115]\n",
      " [-0.0805525   0.06425904 -0.0248466   0.99436649]]\n",
      "\n",
      "Eigenvalues calculated: [259.76545625 146.67285728  15.92714548   0.99454098]\n",
      "Eigenvectors calculated: [[ 0.03079279  0.04465631  0.02533389  0.9982063 ]\n",
      " [-0.02601933  0.9964866   0.06536853 -0.04543575]\n",
      " [ 0.99593478  0.02985039 -0.07950115 -0.03004043]\n",
      " [-0.0805525   0.06425904 -0.99436649  0.0248466 ]]\n"
     ]
    }
   ],
   "source": [
    "### QR iteration\n",
    "matrix = C @ C.T\n",
    "s = 0\n",
    "\n",
    "print(f'Eigenvalues = {np.linalg.eig(matrix)[0]}')\n",
    "print(f'Eigenvectors = {np.linalg.eig(matrix)[1]}')\n",
    "print()\n",
    "print(f'Eigenvalues calculated: {np.diag(QR_iteration(matrix)[0])}')\n",
    "    \n",
    "# If A is symmetric the eigenvectors are the coloumns of Q_inf\n",
    "if np.allclose(matrix, matrix.T, rtol=1e-8, atol=1e-8):\n",
    "    print(f'Eigenvectors calculated: {QR_iteration(matrix)[1]}')"
   ]
  },
  {
   "cell_type": "code",
   "execution_count": null,
   "id": "8555cce4",
   "metadata": {},
   "outputs": [],
   "source": []
  }
 ],
 "metadata": {
  "kernelspec": {
   "display_name": "Python 3 (ipykernel)",
   "language": "python",
   "name": "python3"
  },
  "language_info": {
   "codemirror_mode": {
    "name": "ipython",
    "version": 3
   },
   "file_extension": ".py",
   "mimetype": "text/x-python",
   "name": "python",
   "nbconvert_exporter": "python",
   "pygments_lexer": "ipython3",
   "version": "3.9.7"
  },
  "varInspector": {
   "cols": {
    "lenName": 16,
    "lenType": 16,
    "lenVar": 40
   },
   "kernels_config": {
    "python": {
     "delete_cmd_postfix": "",
     "delete_cmd_prefix": "del ",
     "library": "var_list.py",
     "varRefreshCmd": "print(var_dic_list())"
    },
    "r": {
     "delete_cmd_postfix": ") ",
     "delete_cmd_prefix": "rm(",
     "library": "var_list.r",
     "varRefreshCmd": "cat(var_dic_list()) "
    }
   },
   "types_to_exclude": [
    "module",
    "function",
    "builtin_function_or_method",
    "instance",
    "_Feature"
   ],
   "window_display": false
  }
 },
 "nbformat": 4,
 "nbformat_minor": 5
}
