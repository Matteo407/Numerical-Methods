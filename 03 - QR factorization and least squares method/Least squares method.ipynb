{
 "cells": [
  {
   "cell_type": "code",
   "execution_count": 1,
   "id": "17add47b",
   "metadata": {},
   "outputs": [],
   "source": [
    "import numpy as np"
   ]
  },
  {
   "cell_type": "code",
   "execution_count": 14,
   "id": "4b7e38a5",
   "metadata": {},
   "outputs": [],
   "source": [
    "n = 7\n",
    "m = 4\n",
    "\n",
    "while np.linalg.matrix_rank(A := np.random.randint(1, 30, (n, m))) != m:\n",
    "    pass\n",
    "\n",
    "b = np.random.randint(1, 30, (n, 1))"
   ]
  },
  {
   "cell_type": "markdown",
   "id": "00d955f7",
   "metadata": {},
   "source": [
    "<h1 style=\"background-color:rgb(181 ,50 ,84);color:white;text-align:center\">Normal equations</h1>"
   ]
  },
  {
   "cell_type": "code",
   "execution_count": 15,
   "id": "47359c92",
   "metadata": {},
   "outputs": [
    {
     "name": "stdout",
     "output_type": "stream",
     "text": [
      "Solution: x =\n",
      "[[ 0.41126894]\n",
      " [ 0.1597151 ]\n",
      " [-0.04265094]\n",
      " [ 0.46484809]]\n",
      "\n",
      "Residual: 14.975440490877448\n",
      "\n",
      "Numpy solution: \n",
      "[[ 0.41126894]\n",
      " [ 0.1597151 ]\n",
      " [-0.04265094]\n",
      " [ 0.46484809]]\n",
      "\n",
      "Numpy residual: 14.975440490877448\n"
     ]
    }
   ],
   "source": [
    "# Cholesky factorization\n",
    "\n",
    "# Decomposition\n",
    "L = np.linalg.cholesky(A.T @ A)\n",
    "\n",
    "# Ly = b\n",
    "y = np.linalg.solve(L, A.T @ b)\n",
    "\n",
    "# L^Tx = y\n",
    "x = np.linalg.solve(L.T, y)\n",
    "\n",
    "residual = np.linalg.norm(np.dot(A, x) - b)\n",
    "\n",
    "lsq = np.linalg.lstsq(A, b, rcond=None)\n",
    "\n",
    "print(f'Solution: x =\\n{x}\\n')\n",
    "print(f'Residual: {residual}')\n",
    "print(f'\\nNumpy solution: \\n{lsq[0]}')\n",
    "print(f'\\nNumpy residual: {np.sqrt(lsq[1][0])}')"
   ]
  },
  {
   "cell_type": "markdown",
   "id": "a9082cd2",
   "metadata": {},
   "source": [
    "<h1 style=\"background-color:rgb(181 ,50 ,84);color:white;text-align:center\">QR factorization</h1>"
   ]
  },
  {
   "cell_type": "code",
   "execution_count": 16,
   "id": "7f743a4f",
   "metadata": {},
   "outputs": [
    {
     "name": "stdout",
     "output_type": "stream",
     "text": [
      "Solution: x =\n",
      "[[ 0.41126894]\n",
      " [ 0.1597151 ]\n",
      " [-0.04265094]\n",
      " [ 0.46484809]]\n",
      "\n",
      "Residual: 14.975440490877446\n",
      "\n",
      "Numpy solution: \n",
      "[[ 0.41126894]\n",
      " [ 0.1597151 ]\n",
      " [-0.04265094]\n",
      " [ 0.46484809]]\n",
      "\n",
      "Numpy residual: 14.975440490877448\n"
     ]
    }
   ],
   "source": [
    "# QR factorization \n",
    "Q, R = np.linalg.qr(A)\n",
    "\n",
    "x = np.linalg.inv(R) @ Q.T @ b\n",
    "residual = np.linalg.norm(np.dot(A, x) - b)\n",
    "\n",
    "lsq = np.linalg.lstsq(A, b, rcond=None)\n",
    "\n",
    "print(f'Solution: x =\\n{x}\\n')\n",
    "print(f'Residual: {residual}')\n",
    "print(f'\\nNumpy solution: \\n{lsq[0]}')\n",
    "print(f'\\nNumpy residual: {np.sqrt(lsq[1][0])}')"
   ]
  },
  {
   "cell_type": "code",
   "execution_count": null,
   "id": "1a26cbea",
   "metadata": {},
   "outputs": [],
   "source": []
  }
 ],
 "metadata": {
  "kernelspec": {
   "display_name": "Python 3 (ipykernel)",
   "language": "python",
   "name": "python3"
  },
  "language_info": {
   "codemirror_mode": {
    "name": "ipython",
    "version": 3
   },
   "file_extension": ".py",
   "mimetype": "text/x-python",
   "name": "python",
   "nbconvert_exporter": "python",
   "pygments_lexer": "ipython3",
   "version": "3.9.7"
  },
  "varInspector": {
   "cols": {
    "lenName": 16,
    "lenType": 16,
    "lenVar": 40
   },
   "kernels_config": {
    "python": {
     "delete_cmd_postfix": "",
     "delete_cmd_prefix": "del ",
     "library": "var_list.py",
     "varRefreshCmd": "print(var_dic_list())"
    },
    "r": {
     "delete_cmd_postfix": ") ",
     "delete_cmd_prefix": "rm(",
     "library": "var_list.r",
     "varRefreshCmd": "cat(var_dic_list()) "
    }
   },
   "types_to_exclude": [
    "module",
    "function",
    "builtin_function_or_method",
    "instance",
    "_Feature"
   ],
   "window_display": false
  }
 },
 "nbformat": 4,
 "nbformat_minor": 5
}
