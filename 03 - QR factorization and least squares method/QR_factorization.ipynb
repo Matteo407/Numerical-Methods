{
 "cells": [
  {
   "cell_type": "code",
   "execution_count": 1,
   "id": "6ebca4b3",
   "metadata": {},
   "outputs": [],
   "source": [
    "import numpy as np"
   ]
  },
  {
   "cell_type": "markdown",
   "id": "1478fe24",
   "metadata": {},
   "source": [
    "<h1 style=\"background-color:rgb(181 ,50 ,84);color:white;text-align:center\">QR factorization</h1>\n",
    "\n",
    "Let $A\\in\\mathbb{R}^{n\\times m},\\ n\\geq m$ be a rectangular matrix. A possible decomposition is given by $A = QR$, with $Q\\in\\mathbb{R}^{n\\times n}$ orthogonal and $R\\in\\mathbb{R}^{n\\times m}$ upper triangular.\n",
    "\n",
    "<span style=\"color:orange\">N.B.</span> Economy QR factorization: $A = Q_1R_1$ with $Q\\in\\mathbb{R}^{n\\times m}$ and $R\\in\\mathbb{R}^{m\\times m}$"
   ]
  },
  {
   "cell_type": "markdown",
   "id": "ef281af4",
   "metadata": {},
   "source": [
    "<h1 style=\"background-color:rgb(181 ,50 ,84);color:white;text-align:center\">Gram-Schmidt orthogonalization</h1>\n",
    "\n",
    "\n",
    "<span style=\"color:red\">Condition:</span> The columns of $A$ must be linearly independent ($A$ should be a full rank matrix)"
   ]
  },
  {
   "cell_type": "markdown",
   "id": "b8def031",
   "metadata": {},
   "source": [
    "### Algorithm"
   ]
  },
  {
   "cell_type": "code",
   "execution_count": 2,
   "id": "3e6e0a01",
   "metadata": {},
   "outputs": [],
   "source": [
    "def Gram_Schmidt_orthogonalization(A):\n",
    "    n = A.shape[0]\n",
    "    m = A.shape[1]\n",
    "    \n",
    "    ### R ###\n",
    "    R = np.zeros((m, m))\n",
    "    \n",
    "    ### Q ###  \n",
    "    Q = np.zeros((n, m))\n",
    "    \n",
    "    Q[:, 0] = A[:, 0] / np.linalg.norm(A[:, 0])\n",
    "    R[0][0] = np.linalg.norm(A[:, 0])\n",
    "    \n",
    "    for i in range(1, m):\n",
    "        s = 0\n",
    "        for j in range(i):\n",
    "            s += np.dot(Q[:, j], np.dot(Q[:, j].T, A[:, i]))\n",
    "        \n",
    "        q_i = A[:, i] - s\n",
    "        norm = np.linalg.norm(q_i)\n",
    "        Q[:, i] = q_i / norm\n",
    "        \n",
    "        R[i, i] = norm\n",
    "        \n",
    "    for i in range(m):\n",
    "        for j in range(i+1, m):\n",
    "            R[i, j] = np.dot(Q[:, i].T, A[:, j])\n",
    "        \n",
    "    return Q, R"
   ]
  },
  {
   "cell_type": "code",
   "execution_count": 3,
   "id": "cfa20558",
   "metadata": {},
   "outputs": [
    {
     "name": "stdout",
     "output_type": "stream",
     "text": [
      "A = \n",
      "[[4 6 8 6 9]\n",
      " [6 9 5 6 2]\n",
      " [3 8 7 9 4]\n",
      " [3 6 3 6 7]\n",
      " [1 5 4 9 8]]\n",
      "\n",
      "Q = \n",
      "[[ 0.47471266 -0.2225657   0.80244291  0.23878747  0.15549378]\n",
      " [ 0.71206899 -0.33384855 -0.42619499 -0.00344074 -0.44704461]\n",
      " [ 0.3560345   0.58047541  0.16629082 -0.71292167 -0.01943672]\n",
      " [ 0.3560345   0.15338988 -0.38312686  0.19107585  0.81634234]\n",
      " [ 0.11867817  0.69175826 -0.00209359  0.63103202 -0.33042428]]\n",
      "\n",
      "R = \n",
      "[[ 8.42614977 14.83477073 11.39310392 13.5293109  10.56235676]\n",
      " [ 0.          4.68290268  3.84076218  9.0319568   6.25890846]\n",
      " [ 0.          0.          4.29484912  1.43650142  4.33612274]\n",
      " [ 0.          0.          0.          1.82152864  5.67630621]\n",
      " [ 0.          0.          0.          0.          3.49861001]]\n",
      "\n",
      "QR = \n",
      "[[4. 6. 8. 6. 9.]\n",
      " [6. 9. 5. 6. 2.]\n",
      " [3. 8. 7. 9. 4.]\n",
      " [3. 6. 3. 6. 7.]\n",
      " [1. 5. 4. 9. 8.]]\n",
      "\n"
     ]
    }
   ],
   "source": [
    "A = np.random.randint(1, 10, (5, 5))\n",
    "\n",
    "print(f'A = \\n{A}\\n')\n",
    "\n",
    "Q, R = Gram_Schmidt_orthogonalization(A)\n",
    "\n",
    "print(f'Q = \\n{Q}\\n')\n",
    "print(f'R = \\n{R}\\n')\n",
    "print(f'QR = \\n{np.dot(Q, R)}\\n')"
   ]
  },
  {
   "cell_type": "markdown",
   "id": "95cf9c6c",
   "metadata": {},
   "source": [
    "<h1 style=\"background-color:rgb(181 ,50 ,84);color:white;text-align:center\">Householder matrix reflections</h1>\n",
    "\n",
    "The Householder reflection matrix is defined as $$P =I -\\beta v v^T,\\ \\ \\beta = \\frac{2}{||v||_2^2}$$\n",
    "\n",
    "Then when applied to a vector we get the annihilation of all terms of the vector except for the first: \n",
    "\n",
    "$$Px = \\alpha e_1$$\n",
    "\n",
    "This property holds if we defined the vector $v$ as $$ v = x -\\alpha e_1,\\ \\ \\ \\alpha = \\pm ||x||\\theta$$"
   ]
  },
  {
   "cell_type": "markdown",
   "id": "e366856f",
   "metadata": {},
   "source": [
    "### Algorithm"
   ]
  },
  {
   "cell_type": "code",
   "execution_count": 4,
   "id": "0b237a72",
   "metadata": {},
   "outputs": [],
   "source": [
    "# Definition of the matrix\n",
    "\n",
    "theta = lambda x: np.sign(x) if x != 0 else 1\n",
    "\n",
    "def reflection_matrix(v):\n",
    "    n = v.shape[0]\n",
    "    beta = 2 / np.linalg.norm(v, ord=2)**2\n",
    "    \n",
    "    return np.eye(n) - beta * np.dot(v, v.T) \n",
    "\n",
    "def householder_vector(x):\n",
    "    n = x.shape[0]\n",
    "    alpha = np.linalg.norm(x) * theta(x[0])\n",
    "    \n",
    "    return x - alpha*np.eye(n,1)"
   ]
  },
  {
   "cell_type": "code",
   "execution_count": 5,
   "id": "2efbbfcc",
   "metadata": {},
   "outputs": [],
   "source": [
    "# Decomposition algorithm\n",
    "\n",
    "def householder_qr(A):\n",
    "    n = A.shape[0]\n",
    "    m = A.shape[1]\n",
    "    \n",
    "    R = A.copy()\n",
    "    Q_T = np.eye(n)\n",
    "    \n",
    "    for i in range(m):\n",
    "        v = householder_vector(R[i:, i].reshape(n-i,1))\n",
    "        P_temp = reflection_matrix(v)\n",
    "        \n",
    "        P = np.eye(n)\n",
    "        P[i:, i:] = P_temp\n",
    "        \n",
    "        R = np.dot(P, R)\n",
    "        Q_T = np.dot(P, Q_T)\n",
    "        \n",
    "    Q = Q_T.T\n",
    "    \n",
    "    return Q, R"
   ]
  },
  {
   "cell_type": "code",
   "execution_count": 6,
   "id": "2e7ccb8c",
   "metadata": {},
   "outputs": [
    {
     "name": "stdout",
     "output_type": "stream",
     "text": [
      "A = \n",
      "[[14 19  3]\n",
      " [11 10  3]\n",
      " [12  4 16]\n",
      " [ 4  8 10]\n",
      " [ 9  6 12]]\n",
      "\n",
      "Q = \n",
      "[[ 0.59266726  0.58922877  0.25091678  0.14959699  0.46499084]\n",
      " [ 0.46566713 -0.00510597  0.41665056 -0.13159486 -0.76955387]\n",
      " [ 0.50800051 -0.66173353 -0.18206206  0.50477126  0.12689998]\n",
      " [ 0.1693335   0.41256226 -0.79965849  0.17323133 -0.36284399]\n",
      " [ 0.38100038 -0.2113871  -0.30140138 -0.82188832  0.20931078]]\n",
      "\n",
      "R = \n",
      "[[ 2.36220236e+01  2.15900216e+01  1.75683509e+01]\n",
      " [-6.51909924e-15  1.05295284e+01 -7.24639059e+00]\n",
      " [-1.99087983e-15  1.30877037e-15 -1.25236923e+01]\n",
      " [-1.60211339e-15  2.07377055e-16 -3.29653657e-16]\n",
      " [-6.73595782e-15 -8.69254368e-16 -7.48137625e-16]]\n",
      "\n",
      "QR = \n",
      "[[14. 19.  3.]\n",
      " [11. 10.  3.]\n",
      " [12.  4. 16.]\n",
      " [ 4.  8. 10.]\n",
      " [ 9.  6. 12.]]\n"
     ]
    }
   ],
   "source": [
    "A = np.random.randint(1, 20, (5, 3))\n",
    "print(f'A = \\n{A}\\n')\n",
    "\n",
    "Q, R = householder_qr(A)\n",
    "\n",
    "print(f'Q = \\n{Q}\\n')\n",
    "print(f'R = \\n{R}\\n')\n",
    "print(f'QR = \\n{np.dot(Q,R)}')"
   ]
  },
  {
   "cell_type": "markdown",
   "id": "581755f4",
   "metadata": {},
   "source": [
    "<h1 style=\"background-color:rgb(181 ,50 ,84);color:white;text-align:center\">Givens rotation matrices\n",
    "</h1>\n",
    "\n",
    "This method is used to rotate a two dimensinal vector $x\\in\\mathbb{R}^2$ through the application of a rotation matrix \n",
    "\n",
    "$$G =\\begin{bmatrix} \\cos\\theta & \\sin\\theta \\\\ -\\sin\\theta & \\cos\\theta \\end{bmatrix}$$\n",
    "\n",
    "This gives as a result \n",
    "\n",
    "$$Gx = \\begin{bmatrix}y\\\\ 0\\end{bmatrix} = \\begin{bmatrix}||x||_2\\\\0\\end{bmatrix}$$\n",
    "\n",
    "provided that we defined the components of $G$ through:\n",
    "\n",
    "$$\\cos\\theta = \\frac{x_1}{\\sqrt{x_1^2+x_2^2}},\\ \\ \\ \\ \\ \\sin\\theta=\\frac{x_2}{\\sqrt{x_1^2+x_2^2}}$$"
   ]
  },
  {
   "cell_type": "markdown",
   "id": "7589b097",
   "metadata": {},
   "source": [
    "### Algorithm"
   ]
  },
  {
   "cell_type": "code",
   "execution_count": 7,
   "id": "30e0a2ba",
   "metadata": {},
   "outputs": [],
   "source": [
    "# Definition of the matrix\n",
    "def rotation_matrix(x):\n",
    "    cos_theta = x[0, 0] / np.sqrt(x[0, 0]**2 + x[1, 0]**2)\n",
    "    sin_theta = x[1, 0] / np.sqrt(x[0, 0]**2 + x[1, 0]**2)\n",
    "    \n",
    "    G = np.array([[cos_theta, sin_theta], [-sin_theta, cos_theta]])\n",
    "    \n",
    "    return G"
   ]
  },
  {
   "cell_type": "code",
   "execution_count": 8,
   "id": "f680a2d3",
   "metadata": {},
   "outputs": [],
   "source": [
    "# Decomposition algorithm\n",
    "\n",
    "def rotation_matrix_decomposition(A):\n",
    "    n = A.shape[0]\n",
    "    m = A.shape[1]\n",
    "\n",
    "    R = A.copy()\n",
    "    Q_T = np.eye(n)\n",
    "\n",
    "    for j in range(m):\n",
    "        for i in range(n-1, j, -1):\n",
    "            \n",
    "            x = R[i-1:i+1, j]\n",
    "            x = np.array([[x[0]], [x[1]]])\n",
    "         \n",
    "            G_temp = rotation_matrix(x)\n",
    "\n",
    "            G = np.eye(n)\n",
    "            G[i-1:i+1, i-1:i+1] = G_temp\n",
    "\n",
    "            R = np.dot(G, R)\n",
    "            Q_T = np.dot(G, Q_T)\n",
    "            \n",
    "    Q = Q_T.T\n",
    "\n",
    "    return Q, R"
   ]
  },
  {
   "cell_type": "code",
   "execution_count": 9,
   "id": "d23bf08d",
   "metadata": {},
   "outputs": [
    {
     "name": "stdout",
     "output_type": "stream",
     "text": [
      "A = \n",
      "[[ 7  2 15]\n",
      " [ 8  3 12]\n",
      " [ 5  4 13]\n",
      " [14  2 12]\n",
      " [14 17  6]]\n",
      "\n",
      "Q = \n",
      "[[ 0.30406057 -0.20473835  0.52458638 -0.76839996  0.        ]\n",
      " [ 0.34749779 -0.16982436  0.23627132  0.34405865 -0.82231653]\n",
      " [ 0.21718612  0.0847427   0.66639788  0.51831198  0.48261312]\n",
      " [ 0.60812114 -0.58913122 -0.42510668  0.1073897   0.30143797]\n",
      " [ 0.60812114  0.75827764 -0.21019793 -0.10490608 -0.00390464]]\n",
      "\n",
      "R = \n",
      "[[ 2.30217289e+01  1.40736607e+01  2.25004822e+01]\n",
      " [ 8.22671039e-16  1.11324784e+01 -6.52722137e+00]\n",
      " [-2.41523122e-16  2.21355038e-16  1.30047562e+01]\n",
      " [ 1.70499600e-17 -2.69637282e-18  4.17068090e-16]\n",
      " [ 3.63177952e-16 -2.42277666e-16 -1.13527251e-16]]\n",
      "\n",
      "QR = \n",
      "[[ 7.  2. 15.]\n",
      " [ 8.  3. 12.]\n",
      " [ 5.  4. 13.]\n",
      " [14.  2. 12.]\n",
      " [14. 17.  6.]]\n"
     ]
    }
   ],
   "source": [
    "A = np.random.randint(1, 20, (5, 3))\n",
    "print(f'A = \\n{A}\\n')\n",
    "\n",
    "Q, R = rotation_matrix_decomposition(A)\n",
    "\n",
    "print(f'Q = \\n{Q}\\n')\n",
    "print(f'R = \\n{R}\\n')\n",
    "print(f'QR = \\n{np.dot(Q,R)}')"
   ]
  },
  {
   "cell_type": "code",
   "execution_count": null,
   "id": "14c11753",
   "metadata": {},
   "outputs": [],
   "source": []
  }
 ],
 "metadata": {
  "kernelspec": {
   "display_name": "Python 3 (ipykernel)",
   "language": "python",
   "name": "python3"
  },
  "language_info": {
   "codemirror_mode": {
    "name": "ipython",
    "version": 3
   },
   "file_extension": ".py",
   "mimetype": "text/x-python",
   "name": "python",
   "nbconvert_exporter": "python",
   "pygments_lexer": "ipython3",
   "version": "3.9.7"
  },
  "varInspector": {
   "cols": {
    "lenName": 16,
    "lenType": 16,
    "lenVar": 40
   },
   "kernels_config": {
    "python": {
     "delete_cmd_postfix": "",
     "delete_cmd_prefix": "del ",
     "library": "var_list.py",
     "varRefreshCmd": "print(var_dic_list())"
    },
    "r": {
     "delete_cmd_postfix": ") ",
     "delete_cmd_prefix": "rm(",
     "library": "var_list.r",
     "varRefreshCmd": "cat(var_dic_list()) "
    }
   },
   "types_to_exclude": [
    "module",
    "function",
    "builtin_function_or_method",
    "instance",
    "_Feature"
   ],
   "window_display": false
  }
 },
 "nbformat": 4,
 "nbformat_minor": 5
}
