{
 "cells": [
  {
   "cell_type": "code",
   "execution_count": 1,
   "id": "68f01422",
   "metadata": {},
   "outputs": [],
   "source": [
    "import numpy as np"
   ]
  },
  {
   "cell_type": "markdown",
   "id": "243def6d",
   "metadata": {},
   "source": [
    "<h1 style=\"background-color:rgb(181 ,50 ,84);color:white;text-align:center\">Lower triangular systems</h1>\n",
    "\n",
    "$$x_1 = \\frac{b_1}{l_{11}},\\ \\ \\ \\ \\ \\ \\ x_i = \\frac{1}{l_{11}}\\bigg(b_i - \\sum_{j = 1}^{i-1}l_{ij}x_j\\bigg),\\ \\ \\ \\ \\ \\  \\ \\ i = 2,\\dots,n$$\n"
   ]
  },
  {
   "cell_type": "code",
   "execution_count": 2,
   "id": "0adbac79",
   "metadata": {},
   "outputs": [],
   "source": [
    "def forward_substitution(L: np.array, b: np.array) -> np.array:\n",
    "    \"\"\" \n",
    "    Solves a lower triangular linear system using forward substitution\n",
    "    \n",
    "    Parameters:\n",
    "        L (numpy array): lower triangular nxn matrix\n",
    "        b (numpy array): nx1 known vector\n",
    "        \n",
    "    Returns:\n",
    "        x (numpy array): nx1 vector solution of the linear system \n",
    "    \"\"\"\n",
    "    \n",
    "    # Matrix dimensions\n",
    "    n = L.shape[0]\n",
    "    \n",
    "    # Initalization of the solution vector\n",
    "    x = np.zeros((n, 1))\n",
    "    \n",
    "    # First component\n",
    "    x[0] = b[0] / L[0, 0]\n",
    "    \n",
    "    # Algorithm\n",
    "    for i in range(1, n):\n",
    "        x[i] = (b[i] - L[i, :i] @ x[:i]) / L[i, i]\n",
    "        \n",
    "    return x"
   ]
  },
  {
   "cell_type": "markdown",
   "id": "be4967fc",
   "metadata": {},
   "source": [
    "### Testing"
   ]
  },
  {
   "cell_type": "code",
   "execution_count": 3,
   "id": "3ca1b237",
   "metadata": {},
   "outputs": [
    {
     "name": "stdout",
     "output_type": "stream",
     "text": [
      "x = \n",
      "[[ 1.33333333]\n",
      " [-0.54166667]\n",
      " [ 0.47083333]\n",
      " [ 0.60833333]]\n",
      "\n",
      "r = \n",
      "[[0.]\n",
      " [0.]\n",
      " [0.]\n",
      " [0.]]\n",
      "\n"
     ]
    }
   ],
   "source": [
    "# Random linear system\n",
    "L = np.random.randint(1, 20, (4, 4)) * np.tri(4, 4)\n",
    "b = np.random.randint(1, 20, (4, 1))\n",
    "\n",
    "# Solution of the system\n",
    "x = forward_substitution(L, b)\n",
    "\n",
    "# Residual vector\n",
    "r = L @ x - b\n",
    "\n",
    "# Print results\n",
    "print(f'x = \\n{x}\\n')\n",
    "print(f'r = \\n{r}\\n')"
   ]
  },
  {
   "cell_type": "markdown",
   "id": "4c738eb2",
   "metadata": {},
   "source": [
    "<h1 style=\"background-color:rgb(181 ,50 ,84);color:white;text-align:center\">Upper triangular system</h1>\n",
    "\n",
    "$$x_n = \\frac{b_n}{u_{nn}},\\ \\ \\ \\ \\ \\ \\ x_i = \\frac{1}{u_{ii}}\\bigg(b_i - \\sum_{j = i+1}^nu_{ij}x_j\\bigg),\\ \\ \\ \\ \\ \\ \\ i = n-1,\\dots,1$$"
   ]
  },
  {
   "cell_type": "code",
   "execution_count": 4,
   "id": "590c08fd",
   "metadata": {},
   "outputs": [],
   "source": [
    "def backward_substitution(U: np.array, b: np.array) -> np.array:\n",
    "    \"\"\"\n",
    "    Solves an upper triangular linear system using backward substituion\n",
    "    \n",
    "    Parameters:\n",
    "        U (numpy array): upper triangular nxn matrix\n",
    "        b (numpy array): nx1 known vector\n",
    "        \n",
    "    Returns:\n",
    "        x (numpy array): nx1 vector solution of the linear system \n",
    "    \"\"\"\n",
    "    \n",
    "    # Matrix dimensions\n",
    "    n = U.shape[0]\n",
    "    \n",
    "    # Initialization of the solution vector\n",
    "    x = np.zeros((n, 1))\n",
    "    \n",
    "    # Last component\n",
    "    x[n-1] = b[n-1] / U[n-1, n-1]\n",
    "    \n",
    "    # Algorithm\n",
    "    for i in range(n-2, -1, -1):\n",
    "        x[i] = (b[i] - U[i, i+1:] @ x[i+1:]) / U[i, i]\n",
    "    \n",
    "    return x"
   ]
  },
  {
   "cell_type": "markdown",
   "id": "dc0e2095",
   "metadata": {},
   "source": [
    "### Testing"
   ]
  },
  {
   "cell_type": "code",
   "execution_count": 5,
   "id": "05a9b81b",
   "metadata": {},
   "outputs": [
    {
     "name": "stdout",
     "output_type": "stream",
     "text": [
      "x = \n",
      "[[ 5.50347222]\n",
      " [-9.41666667]\n",
      " [ 1.875     ]\n",
      " [ 1.5       ]]\n",
      "\n",
      "r = \n",
      "[[0.]\n",
      " [0.]\n",
      " [0.]\n",
      " [0.]]\n",
      "\n"
     ]
    }
   ],
   "source": [
    "# Random linear system\n",
    "U = np.random.randint(1, 20, (4, 4)) * np.tri(4, 4).T\n",
    "b = np.random.randint(1, 20, (4, 1))\n",
    "\n",
    "# Solution of the system\n",
    "x = backward_substitution(U, b)\n",
    "\n",
    "# Residual vector\n",
    "r = U @ x - b\n",
    "\n",
    "# Print results\n",
    "print(f'x = \\n{x}\\n')\n",
    "print(f'r = \\n{r}\\n')"
   ]
  },
  {
   "cell_type": "code",
   "execution_count": null,
   "id": "fed6dc75",
   "metadata": {},
   "outputs": [],
   "source": []
  }
 ],
 "metadata": {
  "kernelspec": {
   "display_name": "Python 3 (ipykernel)",
   "language": "python",
   "name": "python3"
  },
  "language_info": {
   "codemirror_mode": {
    "name": "ipython",
    "version": 3
   },
   "file_extension": ".py",
   "mimetype": "text/x-python",
   "name": "python",
   "nbconvert_exporter": "python",
   "pygments_lexer": "ipython3",
   "version": "3.9.7"
  },
  "varInspector": {
   "cols": {
    "lenName": 16,
    "lenType": 16,
    "lenVar": 40
   },
   "kernels_config": {
    "python": {
     "delete_cmd_postfix": "",
     "delete_cmd_prefix": "del ",
     "library": "var_list.py",
     "varRefreshCmd": "print(var_dic_list())"
    },
    "r": {
     "delete_cmd_postfix": ") ",
     "delete_cmd_prefix": "rm(",
     "library": "var_list.r",
     "varRefreshCmd": "cat(var_dic_list()) "
    }
   },
   "types_to_exclude": [
    "module",
    "function",
    "builtin_function_or_method",
    "instance",
    "_Feature"
   ],
   "window_display": false
  }
 },
 "nbformat": 4,
 "nbformat_minor": 5
}
