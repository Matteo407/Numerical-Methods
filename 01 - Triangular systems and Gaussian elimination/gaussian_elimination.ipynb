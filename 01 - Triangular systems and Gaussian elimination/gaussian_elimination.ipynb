{
 "cells": [
  {
   "cell_type": "code",
   "execution_count": 19,
   "id": "18fa6d42",
   "metadata": {},
   "outputs": [],
   "source": [
    "import numpy as np\n",
    "import ipynb.fs.defs.triangular_systems as ts"
   ]
  },
  {
   "cell_type": "markdown",
   "id": "cddec9b7",
   "metadata": {},
   "source": [
    "<h1 style=\"background-color:rgb(181 ,50 ,84);color:white;text-align:center\">Test matrices</h1>"
   ]
  },
  {
   "cell_type": "code",
   "execution_count": 43,
   "id": "91f3bfcc",
   "metadata": {},
   "outputs": [],
   "source": [
    "A1 = np.array([\n",
    "    [1, -1, 4],\n",
    "    [3, 1, 5],\n",
    "    [1, 3, -1]\n",
    "])\n",
    "\n",
    "b1 = np.array([[10], [15], [6]])\n",
    "\n",
    "A2 = np.array([\n",
    "    [1, -1, 2, -3],\n",
    "    [2, 1, 0, -1],\n",
    "    [0, 2, 1, 1],\n",
    "    [2, 0, 1, 0]\n",
    "])\n",
    "\n",
    "b2 = np.array([[0], [3], [-3], [0]])\n",
    "\n",
    "n = 5\n",
    "A3 = np.zeros((n, n))\n",
    "b3 = np.zeros((n, 1))\n",
    "\n",
    "for i in range(n):\n",
    "    for j in range(n):\n",
    "        A3[i, j] = 1 / (i+j+1)\n",
    "        \n",
    "    b3[i] = np.sum(A3[i])"
   ]
  },
  {
   "cell_type": "markdown",
   "id": "743018ba",
   "metadata": {},
   "source": [
    "<h1 style=\"background-color:rgb(181 ,50 ,84);color:white;text-align:center\">Gaussian elimination method</h1>\n",
    "\n",
    "1. First step: definition of the multiplier\n",
    "$$m_{ik} = \\frac{a_{ik}^{(k)}}{a_{kk}^{(k)}},\\ \\ \\ \\ i = k+1,\\dots,n$$\n",
    "\n",
    "2. Second step: modification of the complete matrix\n",
    "$$a_{ij}^{(k+1)} = a_{ij}^{(k)} - m_{ik}a_{kj}^{(k)},\\ \\ \\ \\ i = k+1,\\dots,n,\\ j = k,\\dots,n$$\n",
    "$$ b_i^{(k+1)} = b_i^{(k)} - m_{ik}b_k^{(k)},\\ \\ \\ \\ i = k+1,\\dots,n$$"
   ]
  },
  {
   "cell_type": "code",
   "execution_count": 2,
   "id": "4a5d210d",
   "metadata": {},
   "outputs": [],
   "source": [
    "def gaussian_elimination(A: np.array, b: np.array) -> np.array:\n",
    "    \"\"\"\n",
    "    Solves a linear system using Gaussian elimination\n",
    "    \n",
    "    Parameters:\n",
    "        A (numpy array): nxn matrix\n",
    "        b (numpy array): nx1 known vector\n",
    "        \n",
    "    Returns:\n",
    "        x (numpy array): nx1 vector solution of the linear system \n",
    "        \n",
    "    Raises an exception if one of the pivots is vanishing\n",
    "    \"\"\"\n",
    "    \n",
    "    # Matrix dimensions\n",
    "    n = A.shape[0]\n",
    "    \n",
    "    # Starting linear system\n",
    "    A_k = A.copy()*1.\n",
    "    b_k = b.copy()*1.\n",
    "    \n",
    "    # Algorithm\n",
    "    for k in range(n):\n",
    "        \n",
    "        # Check if the pivot is zero\n",
    "        if A_k[k, k] == 0:\n",
    "            raise Exception(\"The pivot is zero\")\n",
    "            \n",
    "        # Definition of the multipliers\n",
    "        m = A_k[k+1:, k] / A_k[k, k]\n",
    "\n",
    "        # Modification of the system\n",
    "        for i in range(k+1, n):\n",
    "            \n",
    "            # New matrix A\n",
    "            for j in range(k, n):\n",
    "                A_k[i, j] = A_k[i, j] - m[i-k-1] * A_k[k, j]\n",
    "            \n",
    "            # New vector b\n",
    "            b_k[i] = b_k[i] - m[i-k-1] * b_k[k]\n",
    "\n",
    "    # Solution of the system\n",
    "    x = ts.backward_substitution(A_k, b_k)\n",
    "        \n",
    "    return x"
   ]
  },
  {
   "cell_type": "markdown",
   "id": "c81c94a7",
   "metadata": {},
   "source": [
    "### Testing"
   ]
  },
  {
   "cell_type": "code",
   "execution_count": 44,
   "id": "73ee5085",
   "metadata": {},
   "outputs": [
    {
     "name": "stdout",
     "output_type": "stream",
     "text": [
      "x = \n",
      "[[1.]\n",
      " [1.]\n",
      " [1.]\n",
      " [1.]\n",
      " [1.]]\n",
      "\n",
      "r = \n",
      "[[ 0.00000000e+00]\n",
      " [ 0.00000000e+00]\n",
      " [-2.22044605e-16]\n",
      " [ 0.00000000e+00]\n",
      " [ 0.00000000e+00]]\n",
      "\n"
     ]
    }
   ],
   "source": [
    "# Random linear system\n",
    "A = A3\n",
    "b = b3\n",
    "\n",
    "# Solution of the system\n",
    "x = gaussian_elimination(A, b)\n",
    "\n",
    "# Residual vector\n",
    "r = A @ x - b\n",
    "\n",
    "# Print results\n",
    "print(f'x = \\n{x}\\n')\n",
    "print(f'r = \\n{r}\\n')"
   ]
  },
  {
   "cell_type": "markdown",
   "id": "c75d485c",
   "metadata": {},
   "source": [
    "<h1 style=\"background-color:rgb(181 ,50 ,84);color:white;text-align:center\">Gaussian elimination for LU factorization</h1>\n",
    "\n",
    "Using the Gaussian elimination method is equivalent to performing an $LU$ factorization. Defining \n",
    "\n",
    "$$m_k = [0\\cdots0\\ \\ m_{k+1,k}\\cdots m_{nk}]$$\n",
    "we can then create the matrices \n",
    "$$M_k = I - m_k\\hat e_k^T$$ \n",
    "so that \n",
    "$$L = (M_{n-1}M_{n-2}\\cdots M_1),\\ \\ \\ \\ \\ U = A^{(n)}$$"
   ]
  },
  {
   "cell_type": "code",
   "execution_count": 4,
   "id": "c02675c8",
   "metadata": {},
   "outputs": [],
   "source": [
    "def gem_LU_factorization(A: np.array) -> [np.array, np.array]:\n",
    "    \"\"\"\n",
    "    Performes an LU factorization using the Gaussian elimination method\n",
    "    \n",
    "    Parameters:\n",
    "        A (numpy array): nxn matrix\n",
    "        \n",
    "    Returns:\n",
    "        L (numpy array): nxn lower triangular matrix with ones on the diagonal\n",
    "        U (numpy array): nxn upper triangular matrix\n",
    "        \n",
    "    Raises an exception if one of the pivots is vanishing\n",
    "    \"\"\"\n",
    "    \n",
    "    # Matrix dimensions\n",
    "    n = A.shape[0]\n",
    "    \n",
    "    # Starting matrix\n",
    "    A_k = A.copy()*1.\n",
    "    \n",
    "    # Initialization of L\n",
    "    L = np.eye(n)\n",
    "    \n",
    "    # Algorithm\n",
    "    for k in range(n):\n",
    "        \n",
    "        # Check if the pivot is zero\n",
    "        if A_k[k, k] == 0:\n",
    "            raise Exception(\"The pivot is zero\")\n",
    "            \n",
    "        # Definition of the multipliers\n",
    "        m = A_k[k+1:, k] / A_k[k, k]\n",
    "\n",
    "        # Modification of the system\n",
    "        for i in range(k+1, n):\n",
    "            \n",
    "            # New matrix A\n",
    "            for j in range(k, n):\n",
    "                A_k[i, j] = A_k[i, j] - m[i-k-1] * A_k[k, j]\n",
    "            \n",
    "        # Insert the multipliers into L\n",
    "        L[k+1:, k] = m\n",
    "    \n",
    "    return L, A_k"
   ]
  },
  {
   "cell_type": "markdown",
   "id": "31b6c172",
   "metadata": {},
   "source": [
    "### Testing"
   ]
  },
  {
   "cell_type": "code",
   "execution_count": 45,
   "id": "01aff790",
   "metadata": {},
   "outputs": [
    {
     "name": "stdout",
     "output_type": "stream",
     "text": [
      "A = \n",
      "[[1.         0.5        0.33333333 0.25       0.2       ]\n",
      " [0.5        0.33333333 0.25       0.2        0.16666667]\n",
      " [0.33333333 0.25       0.2        0.16666667 0.14285714]\n",
      " [0.25       0.2        0.16666667 0.14285714 0.125     ]\n",
      " [0.2        0.16666667 0.14285714 0.125      0.11111111]]\n",
      "\n",
      "L = \n",
      "[[1.         0.         0.         0.         0.        ]\n",
      " [0.5        1.         0.         0.         0.        ]\n",
      " [0.33333333 1.         1.         0.         0.        ]\n",
      " [0.25       0.9        1.5        1.         0.        ]\n",
      " [0.2        0.8        1.71428571 2.         1.        ]]\n",
      "\n",
      "U = \n",
      "[[ 1.00000000e+00  5.00000000e-01  3.33333333e-01  2.50000000e-01\n",
      "   2.00000000e-01]\n",
      " [ 0.00000000e+00  8.33333333e-02  8.33333333e-02  7.50000000e-02\n",
      "   6.66666667e-02]\n",
      " [ 0.00000000e+00 -1.38777878e-17  5.55555556e-03  8.33333333e-03\n",
      "   9.52380952e-03]\n",
      " [ 0.00000000e+00  0.00000000e+00  0.00000000e+00  3.57142857e-04\n",
      "   7.14285714e-04]\n",
      " [ 0.00000000e+00  0.00000000e+00  0.00000000e+00  0.00000000e+00\n",
      "   2.26757370e-05]]\n",
      "\n",
      "LU = \n",
      "[[1.         0.5        0.33333333 0.25       0.2       ]\n",
      " [0.5        0.33333333 0.25       0.2        0.16666667]\n",
      " [0.33333333 0.25       0.2        0.16666667 0.14285714]\n",
      " [0.25       0.2        0.16666667 0.14285714 0.125     ]\n",
      " [0.2        0.16666667 0.14285714 0.125      0.11111111]]\n",
      "\n"
     ]
    }
   ],
   "source": [
    "# Random linear system\n",
    "A = A3\n",
    "b = b3\n",
    "\n",
    "# Factorization\n",
    "L, U = gem_LU_factorization(A)\n",
    "\n",
    "print(f'A = \\n{A}\\n')\n",
    "print(f'L = \\n{L}\\n')\n",
    "print(f'U = \\n{U}\\n')\n",
    "print(f'LU = \\n{L@U}\\n')"
   ]
  },
  {
   "cell_type": "code",
   "execution_count": 46,
   "id": "216d2bdf",
   "metadata": {},
   "outputs": [
    {
     "name": "stdout",
     "output_type": "stream",
     "text": [
      "x = \n",
      "[[1.]\n",
      " [1.]\n",
      " [1.]\n",
      " [1.]\n",
      " [1.]]\n",
      "\n",
      "r = \n",
      "[[ 4.44089210e-16]\n",
      " [ 0.00000000e+00]\n",
      " [-2.22044605e-16]\n",
      " [ 0.00000000e+00]\n",
      " [ 0.00000000e+00]]\n",
      "\n"
     ]
    }
   ],
   "source": [
    "# Solution of the linear system\n",
    "y = ts.forward_substitution(L, b)\n",
    "x = ts.backward_substitution(U, y)\n",
    "\n",
    "# Residual vector\n",
    "r = A @ x - b\n",
    "\n",
    "# Print results\n",
    "print(f'x = \\n{x}\\n')\n",
    "print(f'r = \\n{r}\\n')"
   ]
  },
  {
   "cell_type": "markdown",
   "id": "b995e93a",
   "metadata": {},
   "source": [
    "<h1 style=\"background-color:rgb(181 ,50 ,84);color:white;text-align:center\">Gaussian elimination with partial pivoting</h1>"
   ]
  },
  {
   "cell_type": "code",
   "execution_count": 7,
   "id": "7730c78e",
   "metadata": {},
   "outputs": [],
   "source": [
    "def gem_LU_partial_pivoting(A):\n",
    "    \"\"\"\n",
    "    Performes an LU factorization using the Gaussian elimination method and partial pivoting\n",
    "    Calculates the decomposition of PI@A = L@U\n",
    "    \n",
    "    Parameters:\n",
    "        A (numpy array): nxn matrix\n",
    "        \n",
    "    Returns:\n",
    "        L (numpy array): nxn lower triangular matrix with ones on the diagonal\n",
    "        U (numpy array): nxn upper triangular matrix\n",
    "        PI (numpy array): nxn permutation matrix\n",
    "        \n",
    "    Raises an exception if one of the pivots is vanishing\n",
    "    \"\"\"\n",
    "    \n",
    "    # Upper triangular matrix\n",
    "    U = A.copy()\n",
    "\n",
    "    # Number of rows of the matrix A\n",
    "    n = U.shape[0]  \n",
    "\n",
    "    # Check if the matrix is square\n",
    "    if U.shape[0] != U.shape[1]:\n",
    "        raise Exception(\"The matrix is not square\")\n",
    "\n",
    "    # Algorithm\n",
    "    L = np.zeros((n,n))\n",
    "    PI = np.eye(n)\n",
    "\n",
    "    for k in range(0, n-1):\n",
    "        \n",
    "        # Check if the pivot is zero\n",
    "        if U[k, k] == 0:\n",
    "            raise Exception(\"The pivot is zero\")\n",
    "        \n",
    "        # Partial pivoting\n",
    "        if U[k, k] < np.max(U[k:, k]):\n",
    "            r = np.argmax(U[k:, k]) + k\n",
    "            U[[k, r]] = U[[r, k]]\n",
    "            L[[k, r]] = L[[r, k]]\n",
    "\n",
    "            pi = np.eye(n, n)\n",
    "            pi[[k, r]] = pi[[r, k]]\n",
    "\n",
    "            PI = np.dot(pi, PI)\n",
    "\n",
    "        m = U[k+1:, k] / U[k, k]\n",
    "        z = np.zeros(k+1)\n",
    "        m = np.concatenate((z, m)).reshape(n, 1)\n",
    "\n",
    "        e = np.eye(1, n, k)\n",
    "        M = np.eye(n,n) - np.dot(m, e)\n",
    "\n",
    "        U = np.dot(M, U)\n",
    "        L[:, k] += m[:, 0]\n",
    "\n",
    "    L += np.eye(n)\n",
    "    \n",
    "    return L, U, PI"
   ]
  },
  {
   "cell_type": "markdown",
   "id": "f1a5f499",
   "metadata": {},
   "source": [
    "### Testing"
   ]
  },
  {
   "cell_type": "code",
   "execution_count": 24,
   "id": "ef05042e",
   "metadata": {},
   "outputs": [
    {
     "name": "stdout",
     "output_type": "stream",
     "text": [
      "A = \n",
      "[[ 1 -1  4]\n",
      " [ 3  1  5]\n",
      " [ 1  3 -1]]\n",
      "\n",
      "L = \n",
      "[[ 1.          0.          0.        ]\n",
      " [ 0.33333333  1.          0.        ]\n",
      " [ 0.33333333 -0.5         1.        ]]\n",
      "\n",
      "U = \n",
      "[[ 3.          1.          5.        ]\n",
      " [ 0.          2.66666667 -2.66666667]\n",
      " [ 0.          0.          1.        ]]\n",
      "\n",
      "PI.T LU = \n",
      "[[ 1. -1.  4.]\n",
      " [ 3.  1.  5.]\n",
      " [ 1.  3. -1.]]\n",
      "\n"
     ]
    }
   ],
   "source": [
    "# Random linear system\n",
    "A = A1\n",
    "b = b1\n",
    "\n",
    "# Factorization\n",
    "L, U, PI = gem_LU_partial_pivoting(A)\n",
    "\n",
    "print(f'A = \\n{A}\\n')\n",
    "print(f'L = \\n{L}\\n')\n",
    "print(f'U = \\n{U}\\n')\n",
    "print(f'PI.T LU = \\n{PI.T@L@U}\\n')"
   ]
  },
  {
   "cell_type": "code",
   "execution_count": 25,
   "id": "e492dc51",
   "metadata": {},
   "outputs": [
    {
     "name": "stdout",
     "output_type": "stream",
     "text": [
      "x = \n",
      "[[-6.125]\n",
      " [ 5.875]\n",
      " [ 5.5  ]]\n",
      "\n",
      "r = \n",
      "[[0.00000000e+00]\n",
      " [3.55271368e-15]\n",
      " [8.88178420e-16]]\n",
      "\n"
     ]
    }
   ],
   "source": [
    "# Solution of the linear system\n",
    "y = ts.forward_substitution(L, PI@b)\n",
    "x = ts.backward_substitution(U, y)\n",
    "\n",
    "# Residual vector\n",
    "r = A @ x - b\n",
    "\n",
    "# Print results\n",
    "print(f'x = \\n{x}\\n')\n",
    "print(f'r = \\n{r}\\n')"
   ]
  },
  {
   "cell_type": "markdown",
   "id": "c050f241",
   "metadata": {},
   "source": [
    "<h1 style=\"background-color:rgb(181 ,50 ,84);color:white;text-align:center\">Gaussian elimination with total pivoting</h1>"
   ]
  },
  {
   "cell_type": "code",
   "execution_count": 10,
   "id": "055ba9a6",
   "metadata": {},
   "outputs": [],
   "source": [
    "def gem_LU_total_pivoting(A):\n",
    "    \"\"\"\n",
    "    Performes an LU factorization using the Gaussian elimination method and partial pivoting\n",
    "    Calculates the decomposition of PI_L@A@PI_R = L@U\n",
    "    \n",
    "    Parameters:\n",
    "        A (numpy array): nxn matrix\n",
    "        \n",
    "    Returns:\n",
    "        L (numpy array): nxn lower triangular matrix with ones on the diagonal\n",
    "        U (numpy array): nxn upper triangular matrix\n",
    "        PI_left (numpy array): nxn left permutation matrix\n",
    "        PI_right (numpy array): nxn right permutation matrix\n",
    "\n",
    "    Raises an exception if one of the pivots is vanishing\n",
    "    \"\"\"\n",
    "    \n",
    "    # Upper triangular matrix\n",
    "    U = A.copy()\n",
    "    \n",
    "    # Number of rows of the matrix A\n",
    "    n = U.shape[0]  \n",
    "\n",
    "    # Check if the matrix is square\n",
    "    if U.shape[0] != U.shape[1]:\n",
    "        raise Exception(\"The matrix is not square\")\n",
    "\n",
    "    # Algorithm\n",
    "    L = np.zeros((n, n))\n",
    "    PI_left = np.eye(n)\n",
    "    PI_right = np.eye(n)\n",
    "\n",
    "    for k in range(0, n-1):\n",
    "\n",
    "        # Check if the pivot is zero\n",
    "        if A[k, k] == 0:\n",
    "            raise Exception(\"The pivot is zero\")\n",
    "\n",
    "        # Total pivoting\n",
    "        if U[k, k] < np.max(np.abs(U[k:, k:])):\n",
    "            r = np.argmax(np.abs(U[k:, k:]))\n",
    "            r, c = np.unravel_index(r, U[k:, k:].shape)\n",
    "            r += k\n",
    "            c += k\n",
    "            \n",
    "            U[[k, r]] = U[[r, k]]\n",
    "            U[:, [k, c]] = U[:, [c, k]]\n",
    "                        \n",
    "            L[[k, r]] = L[[r, k]]\n",
    "            L[:, [k, c]] = L[:, [c, k]]\n",
    "\n",
    "            pi_left = np.eye(n, n)\n",
    "            pi_left[[k, r]] = pi_left[[r, k]]\n",
    "            PI_left = np.dot(pi_left, PI_left)\n",
    "\n",
    "            pi_right = np.eye(n, n)\n",
    "            pi_right[[k, c]] = pi_right[[c, k]]\n",
    "            PI_right = np.dot(PI_right, pi_right)\n",
    "\n",
    "\n",
    "        m = U[k+1:, k] / U[k, k]\n",
    "        z = np.zeros(k+1)\n",
    "        m = np.concatenate((z, m)).reshape(n, 1)\n",
    "\n",
    "        e = np.eye(1, n, k)\n",
    "        M = np.eye(n,n) - np.dot(m, e)\n",
    "\n",
    "        U = np.dot(M, U)\n",
    "        L[:, k] += m[:, 0]\n",
    "        \n",
    "    L += np.eye(n)\n",
    "\n",
    "    return L, U, PI_left, PI_right"
   ]
  },
  {
   "cell_type": "markdown",
   "id": "98136b42",
   "metadata": {},
   "source": [
    "### Testing"
   ]
  },
  {
   "cell_type": "code",
   "execution_count": 30,
   "id": "bb768d20",
   "metadata": {},
   "outputs": [
    {
     "name": "stdout",
     "output_type": "stream",
     "text": [
      "A = \n",
      "[[ 1 -1  2 -3]\n",
      " [ 2  1  0 -1]\n",
      " [ 0  2  1  1]\n",
      " [ 2  0  1  0]]\n",
      "\n",
      "L = \n",
      "[[ 1.          0.          0.          0.        ]\n",
      " [ 0.          1.          0.          0.        ]\n",
      " [-0.33333333  0.16666667  1.          0.        ]\n",
      " [ 0.33333333  0.83333333  0.8         1.        ]]\n",
      "\n",
      "U = \n",
      "[[-3.          1.         -1.          2.        ]\n",
      " [ 0.          2.          0.          1.        ]\n",
      " [ 0.          0.          1.66666667  1.5       ]\n",
      " [ 0.          0.          0.         -2.7       ]]\n",
      "\n",
      "LU = \n",
      "[[-3.  1. -1.  2.]\n",
      " [ 0.  2.  0.  1.]\n",
      " [ 1.  0.  2.  1.]\n",
      " [-1.  2.  1.  0.]]\n",
      "\n",
      "PI_left.T LU PI_right.T = \n",
      "[[ 1. -1.  2. -3.]\n",
      " [ 2.  1.  0. -1.]\n",
      " [ 0.  2.  1.  1.]\n",
      " [ 2.  0.  1.  0.]]\n",
      "\n"
     ]
    }
   ],
   "source": [
    "# Random linear system\n",
    "A = A2\n",
    "b = b2\n",
    "\n",
    "# Factorization\n",
    "L, U, PI_left, PI_right = gem_LU_total_pivoting(A)\n",
    "\n",
    "print(f'A = \\n{A}\\n')\n",
    "print(f'L = \\n{L}\\n')\n",
    "print(f'U = \\n{U}\\n')\n",
    "print(f'LU = \\n{L@U}\\n')\n",
    "print(f'PI_left.T LU PI_right.T = \\n{PI_left.T @ L @ U @ PI_right.T}\\n')"
   ]
  },
  {
   "cell_type": "code",
   "execution_count": 31,
   "id": "c72fbcba",
   "metadata": {},
   "outputs": [
    {
     "name": "stdout",
     "output_type": "stream",
     "text": [
      "x = \n",
      "[[ 1.]\n",
      " [ 0.]\n",
      " [-2.]\n",
      " [-1.]]\n",
      "\n",
      "r = \n",
      "[[ 0.0000000e+00]\n",
      " [ 8.8817842e-16]\n",
      " [-8.8817842e-16]\n",
      " [ 0.0000000e+00]]\n",
      "\n"
     ]
    }
   ],
   "source": [
    "# Solution of the linear system\n",
    "y = ts.forward_substitution(L, PI_left @ b)\n",
    "z = ts.backward_substitution(U, y)\n",
    "x = PI_right @ z \n",
    "\n",
    "# Residual vector\n",
    "r = A @ x - b\n",
    "\n",
    "# Print results\n",
    "print(f'x = \\n{x}\\n')\n",
    "print(f'r = \\n{r}\\n')"
   ]
  }
 ],
 "metadata": {
  "kernelspec": {
   "display_name": "Python 3 (ipykernel)",
   "language": "python",
   "name": "python3"
  },
  "language_info": {
   "codemirror_mode": {
    "name": "ipython",
    "version": 3
   },
   "file_extension": ".py",
   "mimetype": "text/x-python",
   "name": "python",
   "nbconvert_exporter": "python",
   "pygments_lexer": "ipython3",
   "version": "3.9.7"
  },
  "varInspector": {
   "cols": {
    "lenName": 16,
    "lenType": 16,
    "lenVar": 40
   },
   "kernels_config": {
    "python": {
     "delete_cmd_postfix": "",
     "delete_cmd_prefix": "del ",
     "library": "var_list.py",
     "varRefreshCmd": "print(var_dic_list())"
    },
    "r": {
     "delete_cmd_postfix": ") ",
     "delete_cmd_prefix": "rm(",
     "library": "var_list.r",
     "varRefreshCmd": "cat(var_dic_list()) "
    }
   },
   "types_to_exclude": [
    "module",
    "function",
    "builtin_function_or_method",
    "instance",
    "_Feature"
   ],
   "window_display": false
  }
 },
 "nbformat": 4,
 "nbformat_minor": 5
}
