{
 "cells": [
  {
   "cell_type": "code",
   "execution_count": 1,
   "id": "71493449",
   "metadata": {},
   "outputs": [],
   "source": [
    "import numpy as np\n",
    "import matplotlib.pyplot as plt\n",
    "from scipy.optimize import newton\n",
    "\n",
    "import warnings\n",
    "warnings.filterwarnings(\"ignore\")"
   ]
  },
  {
   "cell_type": "markdown",
   "id": "0e0f8700",
   "metadata": {},
   "source": [
    "<h1 style=\"background-color:rgb(181 ,50 ,84);color:white;text-align:center\">One step methods</h1>"
   ]
  },
  {
   "cell_type": "markdown",
   "id": "3ca99df7",
   "metadata": {},
   "source": [
    "### Forward Euler"
   ]
  },
  {
   "cell_type": "code",
   "execution_count": 2,
   "id": "1d1d2c48",
   "metadata": {},
   "outputs": [],
   "source": [
    "forward_Euler = lambda t_c, y: y + dt*f(t_c-dt, y)"
   ]
  },
  {
   "cell_type": "markdown",
   "id": "84c433e9",
   "metadata": {},
   "source": [
    "### Backward Euler"
   ]
  },
  {
   "cell_type": "code",
   "execution_count": 3,
   "id": "0be5a904",
   "metadata": {},
   "outputs": [],
   "source": [
    "backward_Euler = lambda t_c, y: newton(lambda x: x - y - dt*f(t_c, x), y)"
   ]
  },
  {
   "cell_type": "markdown",
   "id": "21766a71",
   "metadata": {},
   "source": [
    "### Crank-Nicolson"
   ]
  },
  {
   "cell_type": "code",
   "execution_count": 4,
   "id": "a675d958",
   "metadata": {},
   "outputs": [],
   "source": [
    "Crank_Nicolson = lambda t_c, y: newton(lambda x: x - y - dt/2 * (f(t_c-dt, y) + f(t_c, x)), y)"
   ]
  },
  {
   "cell_type": "markdown",
   "id": "4da2c56b",
   "metadata": {},
   "source": [
    "### Heun"
   ]
  },
  {
   "cell_type": "code",
   "execution_count": 5,
   "id": "81f2c280",
   "metadata": {},
   "outputs": [],
   "source": [
    "heun = lambda t_c, y: y + dt/2 * (f(t_c-dt, y) + f(t_c, forward_Euler(t_c-dt, y)))"
   ]
  },
  {
   "cell_type": "markdown",
   "id": "b9470f5d",
   "metadata": {},
   "source": [
    "<h1 style=\"background-color:rgb(181 ,50 ,84);color:white;text-align:center\">Testing</h1>"
   ]
  },
  {
   "cell_type": "markdown",
   "id": "8556f405",
   "metadata": {},
   "source": [
    "### 1st degree ODEs"
   ]
  },
  {
   "cell_type": "code",
   "execution_count": 6,
   "id": "82df3bea",
   "metadata": {},
   "outputs": [
    {
     "data": {
      "image/png": "[encoded data removed]",
      "text/plain": [
       "<Figure size 432x288 with 1 Axes>"
      ]
     },
     "metadata": {
      "needs_background": "light"
     },
     "output_type": "display_data"
    }
   ],
   "source": [
    "### Functions\n",
    "fs = [\n",
    "    (lambda t, y: -y*np.log(y), lambda t: np.exp(-np.exp(np.log(np.log(2))-t)), 0.5),\n",
    "    (lambda t, y: -np.exp(-(t+y)), lambda t: np.log(np.e + np.exp(-t) - 1), 1),\n",
    "    (lambda t, y: y*(1-y), lambda t: np.exp(t)/(1+np.exp(t)), 0.5),\n",
    "    (lambda t, y: 16*y*(1-y), lambda t: (np.exp(16*t - np.log(1023))/(1+np.exp(16*t-np.log(1023)))), 1/1024)\n",
    "]\n",
    "\n",
    "### Method used\n",
    "method = heun\n",
    "\n",
    "### Current function\n",
    "f, sol, y = fs[0]\n",
    "\n",
    "# Time interval\n",
    "dt = 0.2\n",
    "\n",
    "# Time range\n",
    "t0 = 0\n",
    "T = 10\n",
    "t = np.arange(t0, T+dt, dt)\n",
    "\n",
    "y_t = [y]\n",
    "\n",
    "# Algorithm\n",
    "for t_c in t[1:]:\n",
    "    y = method(t_c, y)\n",
    "    y_t.append(y)\n",
    "    \n",
    "plt.plot(t, y_t, label='approx')\n",
    "plt.plot(t, sol(t), label='sol')\n",
    "\n",
    "\n",
    "plt.title(f\"Error: {np.max(np.abs(y_t - sol(t))):.4f}\")\n",
    "plt.xlabel('t', fontsize = 17)\n",
    "plt.ylabel('y(t)', fontsize = 17)\n",
    "\n",
    "plt.legend()\n",
    "plt.show()"
   ]
  },
  {
   "cell_type": "markdown",
   "id": "2a5f9852",
   "metadata": {},
   "source": [
    "### Order of convergence"
   ]
  },
  {
   "cell_type": "code",
   "execution_count": 10,
   "id": "c100f80e",
   "metadata": {},
   "outputs": [
    {
     "data": {
      "text/plain": [
       "array([0.        , 0.        , 2.00203779, 2.00098554, 2.00048449,\n",
       "       2.0002402 , 2.00011953, 2.00005946, 2.00003   , 2.00002892])"
      ]
     },
     "execution_count": 10,
     "metadata": {},
     "output_type": "execute_result"
    }
   ],
   "source": [
    "dt = 0.1\n",
    "\n",
    "p = np.zeros((10,))\n",
    "err = np.zeros((10,))\n",
    "\n",
    "for i in range(10):\n",
    "    dt /= 2\n",
    "    \n",
    "    t = np.arange(t0, T+dt, dt)\n",
    "    \n",
    "    f, sol, y = fs[1]\n",
    "    \n",
    "    y_t = [y]\n",
    "\n",
    "    # Algorithm\n",
    "    for t_c in t[1:]:\n",
    "        y = method(t_c, y)\n",
    "        y_t.append(y)\n",
    "        \n",
    "    err[i] = np.max(np.abs(y_t - sol(t)))\n",
    "    \n",
    "    if i > 1:\n",
    "        p[i] = np.log2(err[i-1]/err[i])\n",
    "        \n",
    "\n",
    "# plt.semilogy(err)\n",
    "p"
   ]
  },
  {
   "cell_type": "markdown",
   "id": "19e644c3",
   "metadata": {},
   "source": [
    "### Harmonic oscillator\n",
    "\n",
    "$$\n",
    "\\begin{bmatrix}\n",
    "y\\\\ y'\n",
    "\\end{bmatrix}'=\n",
    "\\begin{bmatrix}\n",
    "0 & 1 \\\\ -\\omega^2 & 0\n",
    "\\end{bmatrix}\n",
    "\\begin{bmatrix}\n",
    "y\\\\ y'\n",
    "\\end{bmatrix}\n",
    "$$"
   ]
  },
  {
   "cell_type": "code",
   "execution_count": null,
   "id": "0ca76bac",
   "metadata": {},
   "outputs": [],
   "source": [
    "# Parameters\n",
    "x0 = 1\n",
    "y0 = 4\n",
    "omega = 0.5\n",
    "\n",
    "# Oscillator\n",
    "f = lambda t, y: np.array([[0, 1], [-omega**2, 0]]) @ y\n",
    "\n",
    "# Solution\n",
    "sol = lambda t: x0*np.cos(omega*t) + y0*np.sin(omega*t)\n",
    "\n",
    "# Time interval\n",
    "dt = 0.01\n",
    "\n",
    "# Time range\n",
    "t0 = 0\n",
    "T = 30\n",
    "t = np.arange(t0, T+dt, dt)\n",
    "\n",
    "# Initial condition\n",
    "y = np.array([[x0], [y0*omega]])\n",
    "y_t = y\n",
    "\n",
    "# Algorithm\n",
    "for t_c in t[1:]:\n",
    "    y = backward_Euler(t_c, y)\n",
    "    y_t = np.concatenate((y_t, y), axis=1) \n",
    "\n",
    "# Plot \n",
    "y_tx = y_t[0, :]\n",
    "\n",
    "plt.plot(t, y_tx, label='approx')\n",
    "plt.plot(t, sol(t), label='sol')\n",
    "plt.legend()\n",
    "plt.show()"
   ]
  },
  {
   "cell_type": "markdown",
   "id": "27fa1779",
   "metadata": {},
   "source": [
    "### Lokta-Volterra \n",
    "\n",
    "$$y'_1 = \\alpha y_1 - \\beta y_1y_2$$\n",
    "$$y'_2 = -\\gamma y_2 + \\delta y_1y_2$$\n",
    "\n",
    "$$\\alpha = 0.25, \\beta = 0.01, \\gamma = 1, \\delta = 0.01, y_1(0) = 80, y_2(0) = 30, t\\in[0,30]$$"
   ]
  },
  {
   "cell_type": "code",
   "execution_count": null,
   "id": "c8bf8600",
   "metadata": {},
   "outputs": [],
   "source": [
    "# Function y' = f(t, y(t))\n",
    "alpha = 0.25\n",
    "beta = 0.01\n",
    "gamma = 1\n",
    "delta = 0.01\n",
    "\n",
    "f = lambda t, y: np.array([[alpha*y[0, 0] - beta*y[0, 0]*y[1, 0]], [-gamma*y[1, 0] + delta*y[0, 0]*y[1, 0]]])\n",
    "\n",
    "# Time interval\n",
    "dt = 0.1\n",
    "\n",
    "# Time range\n",
    "t0 = 0\n",
    "T = 30\n",
    "t = np.arange(t0, T+dt, dt)\n",
    "\n",
    "# Initial condition\n",
    "y = np.array([[80], [30]])\n",
    "y_t = y\n",
    "\n",
    "# Algorithm\n",
    "for t_c in t[1:]:\n",
    "    y = forward_Euler(t_c, y)\n",
    "    y_t = np.concatenate((y_t, y), axis=1) \n",
    "\n",
    "# Plot of 2d curve\n",
    "y_tx = y_t[0, :]\n",
    "y_ty = y_t[1, :]\n",
    "\n",
    "fig = plt.figure(figsize=plt.figaspect(0.3))\n",
    "\n",
    "ax = fig.add_subplot(1, 2, 1, projection='3d')\n",
    "ax.plot3D (y_tx, y_ty, t, 'green')\n",
    "\n",
    "ax = fig.add_subplot(1, 2, 2)\n",
    "ax.plot(y_tx, y_ty)\n",
    "\n",
    "plt.show()"
   ]
  },
  {
   "cell_type": "markdown",
   "id": "ce2671dd",
   "metadata": {},
   "source": [
    "### Van der Pol\n",
    "\n",
    "$$y'_1 = y_2 - y_1^3 + y_1$$\n",
    "$$y_2' = -y_1$$"
   ]
  },
  {
   "cell_type": "code",
   "execution_count": null,
   "id": "c054abb0",
   "metadata": {},
   "outputs": [],
   "source": [
    "# Function \n",
    "f = lambda t, y: np.array([[y[1,0] - y[0,0]**3 + y[0,0]], [-y[0,0]]])\n",
    "\n",
    "# Time interval\n",
    "dt = 0.01\n",
    "\n",
    "# Time range\n",
    "t0 = 0\n",
    "T = 20\n",
    "t = np.arange(t0, T+dt, dt)\n",
    "\n",
    "# Initial condition\n",
    "y = np.array([[2], [2]])\n",
    "y_t = y\n",
    "\n",
    "# Algorithm\n",
    "for t_c in t[1:]:\n",
    "    y = forward_Euler(t_c, y)\n",
    "    y_t = np.concatenate((y_t, y), axis=1) \n",
    "\n",
    "# Plot of 2d curve\n",
    "y_tx = y_t[0, :]\n",
    "y_ty = y_t[1, :]\n",
    "\n",
    "fig = plt.figure(figsize=(12,5))\n",
    "\n",
    "ax = fig.add_subplot(1, 2, 1, projection='3d')\n",
    "ax.plot3D (y_tx, y_ty, t, 'green')\n",
    "\n",
    "ax = fig.add_subplot(1, 2, 2)\n",
    "ax.plot(y_tx, y_ty)\n",
    "\n",
    "plt.show()"
   ]
  }
 ],
 "metadata": {
  "kernelspec": {
   "display_name": "Python 3 (ipykernel)",
   "language": "python",
   "name": "python3"
  },
  "language_info": {
   "codemirror_mode": {
    "name": "ipython",
    "version": 3
   },
   "file_extension": ".py",
   "mimetype": "text/x-python",
   "name": "python",
   "nbconvert_exporter": "python",
   "pygments_lexer": "ipython3",
   "version": "3.9.7"
  },
  "varInspector": {
   "cols": {
    "lenName": 16,
    "lenType": 16,
    "lenVar": 40
   },
   "kernels_config": {
    "python": {
     "delete_cmd_postfix": "",
     "delete_cmd_prefix": "del ",
     "library": "var_list.py",
     "varRefreshCmd": "print(var_dic_list())"
    },
    "r": {
     "delete_cmd_postfix": ") ",
     "delete_cmd_prefix": "rm(",
     "library": "var_list.r",
     "varRefreshCmd": "cat(var_dic_list()) "
    }
   },
   "types_to_exclude": [
    "module",
    "function",
    "builtin_function_or_method",
    "instance",
    "_Feature"
   ],
   "window_display": false
  }
 },
 "nbformat": 4,
 "nbformat_minor": 5
}
