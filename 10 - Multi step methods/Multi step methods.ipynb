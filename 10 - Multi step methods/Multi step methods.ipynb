{
 "cells": [
  {
   "cell_type": "code",
   "execution_count": 24,
   "id": "71493449",
   "metadata": {},
   "outputs": [],
   "source": [
    "import numpy as np\n",
    "import matplotlib.pyplot as plt\n",
    "from scipy.optimize import newton\n",
    "\n",
    "import warnings\n",
    "warnings.filterwarnings(\"ignore\")"
   ]
  },
  {
   "cell_type": "markdown",
   "id": "3ca99df7",
   "metadata": {},
   "source": [
    "## One-step methods"
   ]
  },
  {
   "cell_type": "code",
   "execution_count": 25,
   "id": "1d1d2c48",
   "metadata": {},
   "outputs": [],
   "source": [
    "forward_Euler = lambda t_c, y: y + dt*f(t_c-dt, y)"
   ]
  },
  {
   "cell_type": "code",
   "execution_count": null,
   "id": "0be5a904",
   "metadata": {},
   "outputs": [],
   "source": [
    "backward_Euler = lambda t_c, y: newton(lambda x: x - y - dt*f(t_c, x), y)"
   ]
  },
  {
   "cell_type": "code",
   "execution_count": null,
   "id": "a675d958",
   "metadata": {},
   "outputs": [],
   "source": [
    "Crank_Nicolson = lambda t_c, y: newton(lambda x: x - y - dt/2 * (f(t_c-dt, y) + f(t_c, x)), y)"
   ]
  },
  {
   "cell_type": "code",
   "execution_count": null,
   "id": "81f2c280",
   "metadata": {},
   "outputs": [],
   "source": [
    "heun = lambda t_c, y: y + dt/2 * (f(t_c-dt, y) + f(t_c, forward_Euler(t_c-dt, y)))"
   ]
  },
  {
   "cell_type": "code",
   "execution_count": null,
   "id": "9d0eac16",
   "metadata": {},
   "outputs": [],
   "source": [
    "def RK_4(t_c, y):\n",
    "    K1 = f(t_c-dt, y)\n",
    "    K2 = f(t_c-dt + dt/2, y + dt/2*K1)\n",
    "    K3 = f(t_c-dt + dt/2, y + dt/2*K2)\n",
    "    K4 = f(t_c-dt + dt, y + dt*K3)\n",
    "    \n",
    "    return y + dt/6 * (K1 + 2*K2 + 2*K3 + K4)"
   ]
  },
  {
   "cell_type": "markdown",
   "id": "80273aa6",
   "metadata": {},
   "source": [
    "<h1 style=\"background-color:rgb(181 ,50 ,84);color:white;text-align:center\">Adam's methods</h1>"
   ]
  },
  {
   "cell_type": "markdown",
   "id": "4f55d4ee",
   "metadata": {},
   "source": [
    "## Adam-Bashfort methods"
   ]
  },
  {
   "cell_type": "code",
   "execution_count": 26,
   "id": "6469652a",
   "metadata": {},
   "outputs": [],
   "source": [
    "AB_0 = lambda t_c, y_t: forward_Euler(t_c, y_t[-1])"
   ]
  },
  {
   "cell_type": "code",
   "execution_count": 27,
   "id": "6f280490",
   "metadata": {},
   "outputs": [],
   "source": [
    "AB_1 = lambda t_c, y_t: y_t[-1] + dt/2 * (3*f(t_c-dt, y_t[-1]) - f(t_c-2*dt, y_t[-2]))"
   ]
  },
  {
   "cell_type": "code",
   "execution_count": 28,
   "id": "6c95f2a2",
   "metadata": {},
   "outputs": [],
   "source": [
    "AB_2 = lambda t_c, y_t: y_t[-1] + dt/12 * (23*f(t_c-dt, y_t[-1]) - 16*f(t_c-2*dt, y_t[-2]) + 5*f(t_c-3*dt, y_t[-3]))"
   ]
  },
  {
   "cell_type": "code",
   "execution_count": 29,
   "id": "f4ac26a1",
   "metadata": {},
   "outputs": [],
   "source": [
    "AB_3 = lambda t_c, y_t: y_t[-1] + dt/24 * (55*f(t_c-dt, y_t[-1]) - 59*f(t_c-2*dt, y_t[-2]) + \\\n",
    "                                             + 37*f(t_c-3*dt, y_t[-3]) - 9*f(t_c-4*dt, y_t[-4]))"
   ]
  },
  {
   "cell_type": "markdown",
   "id": "d4690c9b",
   "metadata": {},
   "source": [
    "## Adam-Moulton methods"
   ]
  },
  {
   "cell_type": "code",
   "execution_count": 30,
   "id": "71b16921",
   "metadata": {},
   "outputs": [],
   "source": [
    "AM_0 = lambda t_c, y_t: Crank_Nicolson(t_c, y_t[-1])"
   ]
  },
  {
   "cell_type": "code",
   "execution_count": 31,
   "id": "76dfc303",
   "metadata": {},
   "outputs": [],
   "source": [
    "AM_1 = lambda t_c, y_t: newton(lambda x: x-y_t[-1]-dt/12 * (5*f(t_c, x) + 8*f(t_c-dt, y_t[-1]) - f(t_c-2*dt, y_t[-2])), y_t[-1])"
   ]
  },
  {
   "cell_type": "code",
   "execution_count": 32,
   "id": "d0a07888",
   "metadata": {},
   "outputs": [],
   "source": [
    "AM_2 = lambda t_c, y_t: newton(lambda x: x - y_t[-1] - dt/24 * (9*f(t_c, x) + 19*f(t_c-dt, y_t[-1]) \\\n",
    "                                                            - 5*f(t_c-2*dt, y_t[-2]) + f(t_c-3*dt, y_t[-3])), y_t[-1])"
   ]
  },
  {
   "cell_type": "code",
   "execution_count": 33,
   "id": "a026f39c",
   "metadata": {},
   "outputs": [],
   "source": [
    "AM_3 = lambda t_c, y_t: newton(lambda x: x - y_t[-1] - dt/720 * (251*f(t_c, x) + 646*f(t_c-dt, y_t[-1]) \\\n",
    "                                 - 264*f(t_c-2*dt, y_t[-2]) + 106*f(t_c-3*dt, y_t[-3]) - 19*f(t_c-4*dt, y_t[-4])), y_t[-1])"
   ]
  },
  {
   "cell_type": "markdown",
   "id": "3c735c05",
   "metadata": {},
   "source": [
    "<h1 style=\"background-color:rgb(181 ,50 ,84);color:white;text-align:center\">Backward finite differences</h1>"
   ]
  },
  {
   "cell_type": "code",
   "execution_count": 34,
   "id": "a999e8d0",
   "metadata": {},
   "outputs": [],
   "source": [
    "BDF_0 = lambda t_c, y_t: newton(lambda x: x - y_t[-1] - dt*f(t_c, x), y_t[-1])"
   ]
  },
  {
   "cell_type": "code",
   "execution_count": 35,
   "id": "8e53b014",
   "metadata": {},
   "outputs": [],
   "source": [
    "BDF_1 = lambda t_c, y_t: newton(lambda x: x - (4*y_t[-1] - 1*y_t[-2] + 2*dt*f(t_c, x))/3, y_t[-1])"
   ]
  },
  {
   "cell_type": "code",
   "execution_count": 36,
   "id": "77aef3f6",
   "metadata": {},
   "outputs": [],
   "source": [
    "BDF_2 = lambda t_c, y_t: newton(lambda x: x - (18*y_t[-1] - 9*y_t[-2] + 2*y_t[-3] + 6*dt*f(t_c, x))/11, y_t[-1])"
   ]
  },
  {
   "cell_type": "code",
   "execution_count": 37,
   "id": "718d7445",
   "metadata": {},
   "outputs": [],
   "source": [
    "BDF_3 = lambda t_c, y_t: newton(lambda x: x - (48*y_t[-1] - 36*y_t[-2] + 16*y_t[-3] - 3*y_t[-4] + 12*dt*f(t_c, x))/25, y_t[-1])"
   ]
  },
  {
   "cell_type": "markdown",
   "id": "b9470f5d",
   "metadata": {},
   "source": [
    "<h1 style=\"background-color:rgb(181 ,50 ,84);color:white;text-align:center\">Testing</h1>"
   ]
  },
  {
   "cell_type": "markdown",
   "id": "8556f405",
   "metadata": {},
   "source": [
    "### 1st degree ODEs"
   ]
  },
  {
   "cell_type": "code",
   "execution_count": 38,
   "id": "82df3bea",
   "metadata": {},
   "outputs": [
    {
     "data": {
      "image/png": "[encoded data removed]",
      "text/plain": [
       "<Figure size 432x288 with 1 Axes>"
      ]
     },
     "metadata": {
      "needs_background": "light"
     },
     "output_type": "display_data"
    }
   ],
   "source": [
    "### Functions\n",
    "fs = [\n",
    "    (lambda t, y: -y*np.log(y), lambda t: np.exp(-np.exp(np.log(np.log(2))-t)), 0.5),\n",
    "    (lambda t, y: -np.exp(-(t+y)), lambda t: np.log(np.e + np.exp(-t) - 1), 1),\n",
    "    (lambda t, y: y*(1-y), lambda t: np.exp(t)/(1+np.exp(t)), 0.5),\n",
    "    (lambda t, y: 16*y*(1-y), lambda t: (np.exp(16*t - np.log(1023))/(1+np.exp(16*t-np.log(1023)))), 1/1024)\n",
    "]\n",
    "\n",
    "### Current function\n",
    "f, sol, y = fs[1]\n",
    "\n",
    "### Method used\n",
    "method = BDF_3\n",
    "\n",
    "p = 0\n",
    "if method == AM_1 or method == AB_1 or method == BDF_1:\n",
    "    p = 1\n",
    "elif method == AM_2 or method == AB_2 or method == BDF_2:\n",
    "    p = 2\n",
    "elif method == AM_3 or method == AB_3 or method == BDF_3:\n",
    "    p = 3\n",
    "\n",
    "# Time interval\n",
    "dt = 0.01\n",
    "\n",
    "# Time range\n",
    "t0 = 0\n",
    "T = 10\n",
    "t = np.arange(t0, T+dt, dt)\n",
    "\n",
    "### TAKE OFF\n",
    "y_t = [y]\n",
    "\n",
    "for t_c in t[1:p+1]:\n",
    "    y = RK_4(t_c, y)\n",
    "    y_t.append(y)\n",
    "\n",
    "# Algorithm\n",
    "for t_c in t[p+1:]:\n",
    "    y = method(t_c, y_t)\n",
    "    y_t.append(y)\n",
    "    \n",
    "plt.plot(t, y_t, label='approx')\n",
    "plt.plot(t, sol(t), label='sol')\n",
    "\n",
    "plt.title(f\"Error: {np.max(np.abs(y_t - sol(t))):.4f}\")\n",
    "plt.xlabel('t', fontsize = 17)\n",
    "plt.ylabel('y(t)', fontsize = 17)\n",
    "\n",
    "plt.legend()\n",
    "plt.show()"
   ]
  },
  {
   "cell_type": "markdown",
   "id": "40973f23",
   "metadata": {},
   "source": [
    "### Order of convergence"
   ]
  },
  {
   "cell_type": "code",
   "execution_count": 39,
   "id": "fa6863fd",
   "metadata": {},
   "outputs": [
    {
     "name": "stdout",
     "output_type": "stream",
     "text": [
      "Order: \n",
      " [0.         0.         3.96880092 3.98465327 3.99214069]\n"
     ]
    },
    {
     "data": {
      "image/png": "[encoded data removed]",
      "text/plain": [
       "<Figure size 432x288 with 1 Axes>"
      ]
     },
     "metadata": {
      "needs_background": "light"
     },
     "output_type": "display_data"
    }
   ],
   "source": [
    "dt = 0.1\n",
    "\n",
    "iterations = 5\n",
    "order = np.zeros((iterations,))\n",
    "err = np.zeros((iterations,))\n",
    "\n",
    "### Method used\n",
    "method = AB_3\n",
    "\n",
    "p = 0\n",
    "if method == AM_1 or method == AB_1:\n",
    "    p = 1\n",
    "elif method == AM_2 or method == AB_2:\n",
    "    p = 2\n",
    "else:\n",
    "    p = 3\n",
    "\n",
    "for i in range(iterations):\n",
    "    dt /= 2\n",
    "    \n",
    "    t = np.arange(t0, T+dt, dt)\n",
    "    \n",
    "    f, sol, y = fs[1]\n",
    "    \n",
    "    ### TAKE OFF\n",
    "    y_t = [y]\n",
    "\n",
    "    for t_c in t[1:p+1]:\n",
    "        y = RK_4(t_c, y)\n",
    "        y_t.append(y)\n",
    "        \n",
    "    # Algorithm\n",
    "    for t_c in t[p+1:]:\n",
    "        y = method(t_c, y_t)\n",
    "        y_t.append(y)\n",
    "        \n",
    "    err[i] = np.max(np.abs(y_t - sol(t)))\n",
    "    \n",
    "    if i > 1:\n",
    "        order[i] = np.log2(err[i-1]/err[i])\n",
    "\n",
    "#plt.semilogy(err)\n",
    "\n",
    "print('Order: \\n', order)"
   ]
  },
  {
   "cell_type": "markdown",
   "id": "19e644c3",
   "metadata": {},
   "source": [
    "### Harmonic oscillator\n",
    "\n",
    "$$\n",
    "\\begin{bmatrix}\n",
    "y\\\\ y'\n",
    "\\end{bmatrix}'=\n",
    "\\begin{bmatrix}\n",
    "0 & 1 \\\\ -\\omega^2 & 0\n",
    "\\end{bmatrix}\n",
    "\\begin{bmatrix}\n",
    "y\\\\ y'\n",
    "\\end{bmatrix}\n",
    "$$"
   ]
  },
  {
   "cell_type": "code",
   "execution_count": null,
   "id": "0ca76bac",
   "metadata": {},
   "outputs": [],
   "source": [
    "# Parameters\n",
    "x0 = 1\n",
    "y0 = 4\n",
    "omega = 0.5\n",
    "\n",
    "# Oscillator\n",
    "f = lambda t, y: np.array([[0, 1], [-omega**2, 0]]) @ y\n",
    "\n",
    "# Solution\n",
    "sol = lambda t: x0*np.cos(omega*t) + y0*np.sin(omega*t)\n",
    "\n",
    "### Method used\n",
    "method = BDF_2\n",
    "\n",
    "p = 0\n",
    "if method == AM_1 or method == AB_1 or method == BDF_1:\n",
    "    p = 1\n",
    "elif method == AM_2 or method == AB_2 or method == BDF_2:\n",
    "    p = 2\n",
    "elif method == AM_3 or method == AB_3 or method == BDF_3:\n",
    "    p = 3\n",
    "\n",
    "# Time interval\n",
    "dt = 0.5\n",
    "\n",
    "# Time range\n",
    "t0 = 0\n",
    "T = 30\n",
    "t = np.arange(t0, T+dt, dt)\n",
    "\n",
    "# Initial condition\n",
    "y = np.array([[x0, y0*omega]])\n",
    "\n",
    "### TAKE OFF\n",
    "y_t = y\n",
    "\n",
    "for t_c in t[1:p+1]:\n",
    "    y = heun(t_c, y_t[-1])\n",
    "    y_t = np.append(y_t, [y], axis=0)\n",
    "        \n",
    "# Algorithm\n",
    "for t_c in t[p+1:]:\n",
    "    y = method(t_c, y_t)\n",
    "    y_t = np.append(y_t, [y], axis=0)\n",
    "\n",
    "# Plot\n",
    "y_tx = y_t[:, 0]\n",
    "\n",
    "plt.plot(t, y_tx, label='approx')\n",
    "plt.plot(t, sol(t), label='sol')\n",
    "\n",
    "plt.title(f\"Error: {np.max(np.abs(y_tx - sol(t))):.4f}\")\n",
    "plt.xlabel('t', fontsize = 17)\n",
    "plt.ylabel('y(t)', fontsize = 17)\n",
    "\n",
    "plt.legend()\n",
    "plt.show()"
   ]
  },
  {
   "cell_type": "markdown",
   "id": "27fa1779",
   "metadata": {},
   "source": [
    "### Lokta-Volterra \n",
    "\n",
    "$$y'_1 = \\alpha y_1 - \\beta y_1y_2$$\n",
    "$$y'_2 = -\\gamma y_2 + \\delta y_1y_2$$\n",
    "\n",
    "$$\\alpha = 0.25, \\beta = 0.01, \\gamma = 1, \\delta = 0.01, y_1(0) = 80, y_2(0) = 30, t\\in[0,30]$$"
   ]
  },
  {
   "cell_type": "code",
   "execution_count": null,
   "id": "c8bf8600",
   "metadata": {},
   "outputs": [],
   "source": [
    "# Function y' = f(t, y(t))\n",
    "alpha = 0.25\n",
    "beta = 0.01\n",
    "gamma = 1\n",
    "delta = 0.01\n",
    "\n",
    "f = lambda t, y: np.array([alpha*y[0] - beta*y[0]*y[1], -gamma*y[1] + delta*y[0]*y[1]])\n",
    "\n",
    "# Time interval\n",
    "dt = 0.1\n",
    "\n",
    "# Time range\n",
    "t0 = 0\n",
    "T = 30\n",
    "t = np.arange(t0, T+dt, dt)\n",
    "\n",
    "### Method used\n",
    "method = AB_2\n",
    "\n",
    "p = 0\n",
    "if method == AM_1 or method == AB_1 or method == BDF_1:\n",
    "    p = 1\n",
    "elif method == AM_2 or method == AB_2 or method == BDF_2:\n",
    "    p = 2\n",
    "elif method == AM_3 or method == AB_3 or method == BDF_3:\n",
    "    p = 3\n",
    "\n",
    "# Initial condition\n",
    "y = np.array([[80, 30]])\n",
    "\n",
    "### TAKE OFF\n",
    "y_t = y\n",
    "\n",
    "for t_c in t[1:p+1]:\n",
    "    y = heun(t_c, y_t[-1])\n",
    "    y_t = np.append(y_t, [y], axis=0)\n",
    "\n",
    "\n",
    "# Algorithm\n",
    "for t_c in t[p+1:]:\n",
    "    y = method(t_c, y_t)\n",
    "    y_t = np.append(y_t, [y], axis=0)\n",
    "\n",
    "# Plot of 2d curve\n",
    "y_tx = y_t[:, 0]\n",
    "y_ty = y_t[:, 1]\n",
    "\n",
    "fig = plt.figure(figsize=plt.figaspect(0.3))\n",
    "\n",
    "ax = fig.add_subplot(1, 2, 1, projection='3d')\n",
    "ax.plot3D(y_tx, y_ty, t, 'green')\n",
    "\n",
    "ax = fig.add_subplot(1, 2, 2)\n",
    "ax.plot(y_tx, y_ty)\n",
    "\n",
    "plt.show()"
   ]
  },
  {
   "cell_type": "markdown",
   "id": "ce2671dd",
   "metadata": {},
   "source": [
    "### Van der Pol\n",
    "\n",
    "$$y'_1 = y_2 - y_1^3 + y_1$$\n",
    "$$y_2' = -y_1$$"
   ]
  },
  {
   "cell_type": "code",
   "execution_count": null,
   "id": "c054abb0",
   "metadata": {},
   "outputs": [],
   "source": [
    "# Function \n",
    "f = lambda t, y: np.array([y[1] - y[0]**3 + y[0], -y[0]])\n",
    "\n",
    "# Time interval\n",
    "dt = 0.1\n",
    "\n",
    "# Time range\n",
    "t0 = 0\n",
    "T = 10\n",
    "t = np.arange(t0, T+dt, dt)\n",
    "\n",
    "### Method used\n",
    "method = AM_1\n",
    "\n",
    "p = 0\n",
    "if method == AM_1 or method == AB_1 or method == BDF_1:\n",
    "    p = 1\n",
    "elif method == AM_2 or method == AB_2 or method == BDF_2:\n",
    "    p = 2\n",
    "elif method == AM_3 or method == AB_3 or method == BDF_3:\n",
    "    p = 3\n",
    "\n",
    "# Initial condition\n",
    "y = np.array([[2, 2]])\n",
    "\n",
    "### TAKE OFF\n",
    "y_t = y\n",
    "\n",
    "for t_c in t[1:p+1]:\n",
    "    y = heun(t_c, y_t[-1])\n",
    "    y_t = np.append(y_t, [y], axis=0)\n",
    "\n",
    "# Algorithm\n",
    "for t_c in t[p+1:]:\n",
    "    y = method(t_c, y_t)\n",
    "    y_t = np.append(y_t, [y], axis=0)\n",
    "\n",
    "# Plot of 2d curve\n",
    "y_tx = y_t[:, 0]\n",
    "y_ty = y_t[:, 1]\n",
    "\n",
    "fig = plt.figure(figsize=(12,5))\n",
    "\n",
    "ax = fig.add_subplot(1, 2, 1, projection='3d')\n",
    "ax.plot3D (y_tx, y_ty, t, 'green')\n",
    "\n",
    "ax = fig.add_subplot(1, 2, 2)\n",
    "ax.plot(y_tx, y_ty)\n",
    "\n",
    "plt.show()"
   ]
  }
 ],
 "metadata": {
  "kernelspec": {
   "display_name": "Python 3 (ipykernel)",
   "language": "python",
   "name": "python3"
  },
  "language_info": {
   "codemirror_mode": {
    "name": "ipython",
    "version": 3
   },
   "file_extension": ".py",
   "mimetype": "text/x-python",
   "name": "python",
   "nbconvert_exporter": "python",
   "pygments_lexer": "ipython3",
   "version": "3.9.7"
  },
  "varInspector": {
   "cols": {
    "lenName": 16,
    "lenType": 16,
    "lenVar": 40
   },
   "kernels_config": {
    "python": {
     "delete_cmd_postfix": "",
     "delete_cmd_prefix": "del ",
     "library": "var_list.py",
     "varRefreshCmd": "print(var_dic_list())"
    },
    "r": {
     "delete_cmd_postfix": ") ",
     "delete_cmd_prefix": "rm(",
     "library": "var_list.r",
     "varRefreshCmd": "cat(var_dic_list()) "
    }
   },
   "types_to_exclude": [
    "module",
    "function",
    "builtin_function_or_method",
    "instance",
    "_Feature"
   ],
   "window_display": false
  }
 },
 "nbformat": 4,
 "nbformat_minor": 5
}
